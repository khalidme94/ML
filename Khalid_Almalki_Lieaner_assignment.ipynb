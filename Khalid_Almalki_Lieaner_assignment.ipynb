{
  "nbformat": 4,
  "nbformat_minor": 0,
  "metadata": {
    "colab": {
      "name": "Khalid Almalki_Lieaner_assignment.ipynb",
      "provenance": [],
      "collapsed_sections": [],
      "include_colab_link": true
    },
    "kernelspec": {
      "name": "python3",
      "display_name": "Python 3"
    }
  },
  "cells": [
    {
      "cell_type": "markdown",
      "metadata": {
        "id": "view-in-github",
        "colab_type": "text"
      },
      "source": [
        "<a href=\"https://colab.research.google.com/github/khalidme94/ML/blob/CH_6/Khalid_Almalki_Lieaner_assignment.ipynb\" target=\"_parent\"><img src=\"https://colab.research.google.com/assets/colab-badge.svg\" alt=\"Open In Colab\"/></a>"
      ]
    },
    {
      "cell_type": "markdown",
      "metadata": {
        "id": "93NOZbbEHw0X"
      },
      "source": [
        "# Linear Regression Assignment\r\n",
        "\r\n",
        "Note: target variable is `total_amount`.\r\n",
        "\r\n",
        "\r\n",
        "1. Load in a sample of the NYC taxi dataset through this parquet link: `https://github.com/gumdropsteve/datasets/raw/master/nyc_taxi/yellow_tripdata_2019-12.parquet`"
      ]
    },
    {
      "cell_type": "code",
      "metadata": {
        "id": "5QYjsm9EHwTt"
      },
      "source": [
        "import pandas as pd\r\n",
        "import numpy as np\r\n",
        "import seaborn as sns\r\n",
        "import matplotlib.pyplot as plt\r\n",
        "from sklearn.metrics import *\r\n",
        "from sklearn.linear_model import LinearRegression\r\n",
        "from sklearn.model_selection import train_test_split\r\n",
        "from sklearn.model_selection import GridSearchCV"
      ],
      "execution_count": 1,
      "outputs": []
    },
    {
      "cell_type": "code",
      "metadata": {
        "id": "Wmudc9A4fIb7"
      },
      "source": [
        "df=pd.read_parquet('https://github.com/gumdropsteve/datasets/raw/master/nyc_taxi/yellow_tripdata_2019-12.parquet')"
      ],
      "execution_count": 2,
      "outputs": []
    },
    {
      "cell_type": "markdown",
      "metadata": {
        "id": "5vgZDwSEIDjF"
      },
      "source": [
        "2. Find out some information about the data..."
      ]
    },
    {
      "cell_type": "code",
      "metadata": {
        "id": "LdR4alSHIEFd",
        "colab": {
          "base_uri": "https://localhost:8080/"
        },
        "outputId": "4049593c-eb86-4337-b513-deea6dd179ab"
      },
      "source": [
        "df.describe"
      ],
      "execution_count": 3,
      "outputs": [
        {
          "output_type": "execute_result",
          "data": {
            "text/plain": [
              "<bound method NDFrame.describe of         VendorID tpep_pickup_datetime  ... total_amount  congestion_surcharge\n",
              "0            1.0  2019-12-21 07:55:21  ...         9.80                   2.5\n",
              "1            1.0  2019-12-08 13:20:45  ...        13.30                   2.5\n",
              "2            2.0  2019-12-28 14:41:40  ...        11.30                   2.5\n",
              "3            2.0  2019-12-05 23:42:35  ...        21.96                   2.5\n",
              "4            1.0  2019-12-13 12:30:25  ...        17.80                   2.5\n",
              "...          ...                  ...  ...          ...                   ...\n",
              "482737       1.0  2019-12-12 15:22:02  ...         5.75                   0.0\n",
              "482738       1.0  2019-12-28 18:36:46  ...        11.30                   2.5\n",
              "482739       1.0  2019-12-07 19:58:00  ...        18.95                   2.5\n",
              "482740       2.0  2019-12-14 12:27:36  ...        26.16                   2.5\n",
              "482741       1.0  2019-12-24 22:50:46  ...         9.80                   2.5\n",
              "\n",
              "[482742 rows x 18 columns]>"
            ]
          },
          "metadata": {
            "tags": []
          },
          "execution_count": 3
        }
      ]
    },
    {
      "cell_type": "code",
      "metadata": {
        "id": "fADazPVWIFRu",
        "colab": {
          "base_uri": "https://localhost:8080/"
        },
        "outputId": "190b49a1-0eb7-4355-942f-9091db6e0899"
      },
      "source": [
        "df.columns"
      ],
      "execution_count": 4,
      "outputs": [
        {
          "output_type": "execute_result",
          "data": {
            "text/plain": [
              "Index(['VendorID', 'tpep_pickup_datetime', 'tpep_dropoff_datetime',\n",
              "       'passenger_count', 'trip_distance', 'RatecodeID', 'store_and_fwd_flag',\n",
              "       'PULocationID', 'DOLocationID', 'payment_type', 'fare_amount', 'extra',\n",
              "       'mta_tax', 'tip_amount', 'tolls_amount', 'improvement_surcharge',\n",
              "       'total_amount', 'congestion_surcharge'],\n",
              "      dtype='object')"
            ]
          },
          "metadata": {
            "tags": []
          },
          "execution_count": 4
        }
      ]
    },
    {
      "cell_type": "code",
      "metadata": {
        "colab": {
          "base_uri": "https://localhost:8080/",
          "height": 226
        },
        "id": "4f3sGT61fiPQ",
        "outputId": "fdab677c-b668-483a-dc95-cd3b4d164c98"
      },
      "source": [
        "df.sample(5)"
      ],
      "execution_count": 5,
      "outputs": [
        {
          "output_type": "execute_result",
          "data": {
            "text/html": [
              "<div>\n",
              "<style scoped>\n",
              "    .dataframe tbody tr th:only-of-type {\n",
              "        vertical-align: middle;\n",
              "    }\n",
              "\n",
              "    .dataframe tbody tr th {\n",
              "        vertical-align: top;\n",
              "    }\n",
              "\n",
              "    .dataframe thead th {\n",
              "        text-align: right;\n",
              "    }\n",
              "</style>\n",
              "<table border=\"1\" class=\"dataframe\">\n",
              "  <thead>\n",
              "    <tr style=\"text-align: right;\">\n",
              "      <th></th>\n",
              "      <th>VendorID</th>\n",
              "      <th>tpep_pickup_datetime</th>\n",
              "      <th>tpep_dropoff_datetime</th>\n",
              "      <th>passenger_count</th>\n",
              "      <th>trip_distance</th>\n",
              "      <th>RatecodeID</th>\n",
              "      <th>store_and_fwd_flag</th>\n",
              "      <th>PULocationID</th>\n",
              "      <th>DOLocationID</th>\n",
              "      <th>payment_type</th>\n",
              "      <th>fare_amount</th>\n",
              "      <th>extra</th>\n",
              "      <th>mta_tax</th>\n",
              "      <th>tip_amount</th>\n",
              "      <th>tolls_amount</th>\n",
              "      <th>improvement_surcharge</th>\n",
              "      <th>total_amount</th>\n",
              "      <th>congestion_surcharge</th>\n",
              "    </tr>\n",
              "  </thead>\n",
              "  <tbody>\n",
              "    <tr>\n",
              "      <th>470340</th>\n",
              "      <td>1.0</td>\n",
              "      <td>2019-12-28 23:18:07</td>\n",
              "      <td>2019-12-28 23:25:23</td>\n",
              "      <td>1.0</td>\n",
              "      <td>1.50</td>\n",
              "      <td>1.0</td>\n",
              "      <td>N</td>\n",
              "      <td>161</td>\n",
              "      <td>113</td>\n",
              "      <td>1.0</td>\n",
              "      <td>7.5</td>\n",
              "      <td>3.0</td>\n",
              "      <td>0.5</td>\n",
              "      <td>2.25</td>\n",
              "      <td>0.0</td>\n",
              "      <td>0.3</td>\n",
              "      <td>13.55</td>\n",
              "      <td>2.5</td>\n",
              "    </tr>\n",
              "    <tr>\n",
              "      <th>295686</th>\n",
              "      <td>2.0</td>\n",
              "      <td>2019-12-04 21:08:29</td>\n",
              "      <td>2019-12-04 21:21:55</td>\n",
              "      <td>2.0</td>\n",
              "      <td>1.69</td>\n",
              "      <td>1.0</td>\n",
              "      <td>N</td>\n",
              "      <td>186</td>\n",
              "      <td>162</td>\n",
              "      <td>1.0</td>\n",
              "      <td>10.0</td>\n",
              "      <td>0.5</td>\n",
              "      <td>0.5</td>\n",
              "      <td>2.76</td>\n",
              "      <td>0.0</td>\n",
              "      <td>0.3</td>\n",
              "      <td>16.56</td>\n",
              "      <td>2.5</td>\n",
              "    </tr>\n",
              "    <tr>\n",
              "      <th>50510</th>\n",
              "      <td>2.0</td>\n",
              "      <td>2019-12-20 10:32:17</td>\n",
              "      <td>2019-12-20 10:47:22</td>\n",
              "      <td>1.0</td>\n",
              "      <td>1.34</td>\n",
              "      <td>1.0</td>\n",
              "      <td>N</td>\n",
              "      <td>107</td>\n",
              "      <td>90</td>\n",
              "      <td>1.0</td>\n",
              "      <td>10.5</td>\n",
              "      <td>0.0</td>\n",
              "      <td>0.5</td>\n",
              "      <td>3.45</td>\n",
              "      <td>0.0</td>\n",
              "      <td>0.3</td>\n",
              "      <td>17.25</td>\n",
              "      <td>2.5</td>\n",
              "    </tr>\n",
              "    <tr>\n",
              "      <th>362116</th>\n",
              "      <td>2.0</td>\n",
              "      <td>2019-12-21 01:10:01</td>\n",
              "      <td>2019-12-21 01:21:20</td>\n",
              "      <td>1.0</td>\n",
              "      <td>3.64</td>\n",
              "      <td>1.0</td>\n",
              "      <td>N</td>\n",
              "      <td>161</td>\n",
              "      <td>41</td>\n",
              "      <td>2.0</td>\n",
              "      <td>12.5</td>\n",
              "      <td>0.5</td>\n",
              "      <td>0.5</td>\n",
              "      <td>0.00</td>\n",
              "      <td>0.0</td>\n",
              "      <td>0.3</td>\n",
              "      <td>16.30</td>\n",
              "      <td>2.5</td>\n",
              "    </tr>\n",
              "    <tr>\n",
              "      <th>301425</th>\n",
              "      <td>2.0</td>\n",
              "      <td>2019-12-19 15:48:07</td>\n",
              "      <td>2019-12-19 15:55:57</td>\n",
              "      <td>2.0</td>\n",
              "      <td>1.25</td>\n",
              "      <td>1.0</td>\n",
              "      <td>N</td>\n",
              "      <td>237</td>\n",
              "      <td>236</td>\n",
              "      <td>1.0</td>\n",
              "      <td>7.0</td>\n",
              "      <td>0.0</td>\n",
              "      <td>0.5</td>\n",
              "      <td>1.00</td>\n",
              "      <td>0.0</td>\n",
              "      <td>0.3</td>\n",
              "      <td>11.30</td>\n",
              "      <td>2.5</td>\n",
              "    </tr>\n",
              "  </tbody>\n",
              "</table>\n",
              "</div>"
            ],
            "text/plain": [
              "        VendorID tpep_pickup_datetime  ... total_amount  congestion_surcharge\n",
              "470340       1.0  2019-12-28 23:18:07  ...        13.55                   2.5\n",
              "295686       2.0  2019-12-04 21:08:29  ...        16.56                   2.5\n",
              "50510        2.0  2019-12-20 10:32:17  ...        17.25                   2.5\n",
              "362116       2.0  2019-12-21 01:10:01  ...        16.30                   2.5\n",
              "301425       2.0  2019-12-19 15:48:07  ...        11.30                   2.5\n",
              "\n",
              "[5 rows x 18 columns]"
            ]
          },
          "metadata": {
            "tags": []
          },
          "execution_count": 5
        }
      ]
    },
    {
      "cell_type": "markdown",
      "metadata": {
        "id": "4FsmeuGnIOYd"
      },
      "source": [
        "3. Show me the relationships in your data... \r\n",
        "- corr ([help](https://stackoverflow.com/a/50703596/11074111))\r\n",
        "- pariplot\r\n",
        "- some other visualization(s) (of your choice)"
      ]
    },
    {
      "cell_type": "code",
      "metadata": {
        "id": "hoW-M_ObIiqn",
        "colab": {
          "base_uri": "https://localhost:8080/",
          "height": 540
        },
        "outputId": "ffcfa98e-5c9f-4ab1-abab-471386a1fbbe"
      },
      "source": [
        "corr=df.corr()\r\n",
        "corr"
      ],
      "execution_count": 6,
      "outputs": [
        {
          "output_type": "execute_result",
          "data": {
            "text/html": [
              "<div>\n",
              "<style scoped>\n",
              "    .dataframe tbody tr th:only-of-type {\n",
              "        vertical-align: middle;\n",
              "    }\n",
              "\n",
              "    .dataframe tbody tr th {\n",
              "        vertical-align: top;\n",
              "    }\n",
              "\n",
              "    .dataframe thead th {\n",
              "        text-align: right;\n",
              "    }\n",
              "</style>\n",
              "<table border=\"1\" class=\"dataframe\">\n",
              "  <thead>\n",
              "    <tr style=\"text-align: right;\">\n",
              "      <th></th>\n",
              "      <th>VendorID</th>\n",
              "      <th>passenger_count</th>\n",
              "      <th>trip_distance</th>\n",
              "      <th>RatecodeID</th>\n",
              "      <th>PULocationID</th>\n",
              "      <th>DOLocationID</th>\n",
              "      <th>payment_type</th>\n",
              "      <th>fare_amount</th>\n",
              "      <th>extra</th>\n",
              "      <th>mta_tax</th>\n",
              "      <th>tip_amount</th>\n",
              "      <th>tolls_amount</th>\n",
              "      <th>improvement_surcharge</th>\n",
              "      <th>total_amount</th>\n",
              "      <th>congestion_surcharge</th>\n",
              "    </tr>\n",
              "  </thead>\n",
              "  <tbody>\n",
              "    <tr>\n",
              "      <th>VendorID</th>\n",
              "      <td>1.000000</td>\n",
              "      <td>0.165798</td>\n",
              "      <td>0.025826</td>\n",
              "      <td>0.009225</td>\n",
              "      <td>-0.006963</td>\n",
              "      <td>-0.002515</td>\n",
              "      <td>-0.012707</td>\n",
              "      <td>-0.001725</td>\n",
              "      <td>-0.858735</td>\n",
              "      <td>-0.028355</td>\n",
              "      <td>0.021642</td>\n",
              "      <td>0.010144</td>\n",
              "      <td>-0.039408</td>\n",
              "      <td>-0.001597</td>\n",
              "      <td>-0.009748</td>\n",
              "    </tr>\n",
              "    <tr>\n",
              "      <th>passenger_count</th>\n",
              "      <td>0.165798</td>\n",
              "      <td>1.000000</td>\n",
              "      <td>0.019496</td>\n",
              "      <td>0.000271</td>\n",
              "      <td>-0.006724</td>\n",
              "      <td>-0.004947</td>\n",
              "      <td>0.016564</td>\n",
              "      <td>-0.000294</td>\n",
              "      <td>-0.135692</td>\n",
              "      <td>0.002063</td>\n",
              "      <td>0.000780</td>\n",
              "      <td>0.012475</td>\n",
              "      <td>0.003783</td>\n",
              "      <td>-0.000227</td>\n",
              "      <td>0.013716</td>\n",
              "    </tr>\n",
              "    <tr>\n",
              "      <th>trip_distance</th>\n",
              "      <td>0.025826</td>\n",
              "      <td>0.019496</td>\n",
              "      <td>1.000000</td>\n",
              "      <td>0.144107</td>\n",
              "      <td>-0.094794</td>\n",
              "      <td>-0.107132</td>\n",
              "      <td>-0.020566</td>\n",
              "      <td>0.017491</td>\n",
              "      <td>0.001632</td>\n",
              "      <td>-0.085268</td>\n",
              "      <td>0.506991</td>\n",
              "      <td>0.615388</td>\n",
              "      <td>0.018388</td>\n",
              "      <td>0.021689</td>\n",
              "      <td>-0.210402</td>\n",
              "    </tr>\n",
              "    <tr>\n",
              "      <th>RatecodeID</th>\n",
              "      <td>0.009225</td>\n",
              "      <td>0.000271</td>\n",
              "      <td>0.144107</td>\n",
              "      <td>1.000000</td>\n",
              "      <td>-0.008881</td>\n",
              "      <td>0.002503</td>\n",
              "      <td>0.006139</td>\n",
              "      <td>0.004868</td>\n",
              "      <td>-0.022093</td>\n",
              "      <td>-0.181959</td>\n",
              "      <td>0.133305</td>\n",
              "      <td>0.155296</td>\n",
              "      <td>-0.039509</td>\n",
              "      <td>0.005854</td>\n",
              "      <td>-0.094704</td>\n",
              "    </tr>\n",
              "    <tr>\n",
              "      <th>PULocationID</th>\n",
              "      <td>-0.006963</td>\n",
              "      <td>-0.006724</td>\n",
              "      <td>-0.094794</td>\n",
              "      <td>-0.008881</td>\n",
              "      <td>1.000000</td>\n",
              "      <td>0.107039</td>\n",
              "      <td>-0.028173</td>\n",
              "      <td>-0.000217</td>\n",
              "      <td>0.015927</td>\n",
              "      <td>0.010784</td>\n",
              "      <td>-0.027828</td>\n",
              "      <td>-0.049324</td>\n",
              "      <td>0.002824</td>\n",
              "      <td>-0.000370</td>\n",
              "      <td>0.127982</td>\n",
              "    </tr>\n",
              "    <tr>\n",
              "      <th>DOLocationID</th>\n",
              "      <td>-0.002515</td>\n",
              "      <td>-0.004947</td>\n",
              "      <td>-0.107132</td>\n",
              "      <td>0.002503</td>\n",
              "      <td>0.107039</td>\n",
              "      <td>1.000000</td>\n",
              "      <td>-0.029818</td>\n",
              "      <td>-0.000392</td>\n",
              "      <td>0.014882</td>\n",
              "      <td>0.028633</td>\n",
              "      <td>-0.034075</td>\n",
              "      <td>-0.065728</td>\n",
              "      <td>-0.000009</td>\n",
              "      <td>-0.000616</td>\n",
              "      <td>0.129009</td>\n",
              "    </tr>\n",
              "    <tr>\n",
              "      <th>payment_type</th>\n",
              "      <td>-0.012707</td>\n",
              "      <td>0.016564</td>\n",
              "      <td>-0.020566</td>\n",
              "      <td>0.006139</td>\n",
              "      <td>-0.028173</td>\n",
              "      <td>-0.029818</td>\n",
              "      <td>1.000000</td>\n",
              "      <td>0.006944</td>\n",
              "      <td>-0.021476</td>\n",
              "      <td>-0.178163</td>\n",
              "      <td>-0.484442</td>\n",
              "      <td>-0.033897</td>\n",
              "      <td>-0.221938</td>\n",
              "      <td>0.004156</td>\n",
              "      <td>-0.175131</td>\n",
              "    </tr>\n",
              "    <tr>\n",
              "      <th>fare_amount</th>\n",
              "      <td>-0.001725</td>\n",
              "      <td>-0.000294</td>\n",
              "      <td>0.017491</td>\n",
              "      <td>0.004868</td>\n",
              "      <td>-0.000217</td>\n",
              "      <td>-0.000392</td>\n",
              "      <td>0.006944</td>\n",
              "      <td>1.000000</td>\n",
              "      <td>0.001580</td>\n",
              "      <td>-0.006006</td>\n",
              "      <td>0.010816</td>\n",
              "      <td>0.012652</td>\n",
              "      <td>-0.010373</td>\n",
              "      <td>0.999976</td>\n",
              "      <td>-0.004353</td>\n",
              "    </tr>\n",
              "    <tr>\n",
              "      <th>extra</th>\n",
              "      <td>-0.858735</td>\n",
              "      <td>-0.135692</td>\n",
              "      <td>0.001632</td>\n",
              "      <td>-0.022093</td>\n",
              "      <td>0.015927</td>\n",
              "      <td>0.014882</td>\n",
              "      <td>-0.021476</td>\n",
              "      <td>0.001580</td>\n",
              "      <td>1.000000</td>\n",
              "      <td>0.063720</td>\n",
              "      <td>0.002841</td>\n",
              "      <td>0.002643</td>\n",
              "      <td>0.064156</td>\n",
              "      <td>0.002209</td>\n",
              "      <td>0.147109</td>\n",
              "    </tr>\n",
              "    <tr>\n",
              "      <th>mta_tax</th>\n",
              "      <td>-0.028355</td>\n",
              "      <td>0.002063</td>\n",
              "      <td>-0.085268</td>\n",
              "      <td>-0.181959</td>\n",
              "      <td>0.010784</td>\n",
              "      <td>0.028633</td>\n",
              "      <td>-0.178163</td>\n",
              "      <td>-0.006006</td>\n",
              "      <td>0.063720</td>\n",
              "      <td>1.000000</td>\n",
              "      <td>-0.060702</td>\n",
              "      <td>-0.168105</td>\n",
              "      <td>0.744811</td>\n",
              "      <td>-0.006107</td>\n",
              "      <td>0.409854</td>\n",
              "    </tr>\n",
              "    <tr>\n",
              "      <th>tip_amount</th>\n",
              "      <td>0.021642</td>\n",
              "      <td>0.000780</td>\n",
              "      <td>0.506991</td>\n",
              "      <td>0.133305</td>\n",
              "      <td>-0.027828</td>\n",
              "      <td>-0.034075</td>\n",
              "      <td>-0.484442</td>\n",
              "      <td>0.010816</td>\n",
              "      <td>0.002841</td>\n",
              "      <td>-0.060702</td>\n",
              "      <td>1.000000</td>\n",
              "      <td>0.431176</td>\n",
              "      <td>0.043125</td>\n",
              "      <td>0.017104</td>\n",
              "      <td>-0.008575</td>\n",
              "    </tr>\n",
              "    <tr>\n",
              "      <th>tolls_amount</th>\n",
              "      <td>0.010144</td>\n",
              "      <td>0.012475</td>\n",
              "      <td>0.615388</td>\n",
              "      <td>0.155296</td>\n",
              "      <td>-0.049324</td>\n",
              "      <td>-0.065728</td>\n",
              "      <td>-0.033897</td>\n",
              "      <td>0.012652</td>\n",
              "      <td>0.002643</td>\n",
              "      <td>-0.168105</td>\n",
              "      <td>0.431176</td>\n",
              "      <td>1.000000</td>\n",
              "      <td>0.018226</td>\n",
              "      <td>0.017665</td>\n",
              "      <td>-0.124516</td>\n",
              "    </tr>\n",
              "    <tr>\n",
              "      <th>improvement_surcharge</th>\n",
              "      <td>-0.039408</td>\n",
              "      <td>0.003783</td>\n",
              "      <td>0.018388</td>\n",
              "      <td>-0.039509</td>\n",
              "      <td>0.002824</td>\n",
              "      <td>-0.000009</td>\n",
              "      <td>-0.221938</td>\n",
              "      <td>-0.010373</td>\n",
              "      <td>0.064156</td>\n",
              "      <td>0.744811</td>\n",
              "      <td>0.043125</td>\n",
              "      <td>0.018226</td>\n",
              "      <td>1.000000</td>\n",
              "      <td>-0.009475</td>\n",
              "      <td>0.320042</td>\n",
              "    </tr>\n",
              "    <tr>\n",
              "      <th>total_amount</th>\n",
              "      <td>-0.001597</td>\n",
              "      <td>-0.000227</td>\n",
              "      <td>0.021689</td>\n",
              "      <td>0.005854</td>\n",
              "      <td>-0.000370</td>\n",
              "      <td>-0.000616</td>\n",
              "      <td>0.004156</td>\n",
              "      <td>0.999976</td>\n",
              "      <td>0.002209</td>\n",
              "      <td>-0.006107</td>\n",
              "      <td>0.017104</td>\n",
              "      <td>0.017665</td>\n",
              "      <td>-0.009475</td>\n",
              "      <td>1.000000</td>\n",
              "      <td>-0.003494</td>\n",
              "    </tr>\n",
              "    <tr>\n",
              "      <th>congestion_surcharge</th>\n",
              "      <td>-0.009748</td>\n",
              "      <td>0.013716</td>\n",
              "      <td>-0.210402</td>\n",
              "      <td>-0.094704</td>\n",
              "      <td>0.127982</td>\n",
              "      <td>0.129009</td>\n",
              "      <td>-0.175131</td>\n",
              "      <td>-0.004353</td>\n",
              "      <td>0.147109</td>\n",
              "      <td>0.409854</td>\n",
              "      <td>-0.008575</td>\n",
              "      <td>-0.124516</td>\n",
              "      <td>0.320042</td>\n",
              "      <td>-0.003494</td>\n",
              "      <td>1.000000</td>\n",
              "    </tr>\n",
              "  </tbody>\n",
              "</table>\n",
              "</div>"
            ],
            "text/plain": [
              "                       VendorID  ...  congestion_surcharge\n",
              "VendorID               1.000000  ...             -0.009748\n",
              "passenger_count        0.165798  ...              0.013716\n",
              "trip_distance          0.025826  ...             -0.210402\n",
              "RatecodeID             0.009225  ...             -0.094704\n",
              "PULocationID          -0.006963  ...              0.127982\n",
              "DOLocationID          -0.002515  ...              0.129009\n",
              "payment_type          -0.012707  ...             -0.175131\n",
              "fare_amount           -0.001725  ...             -0.004353\n",
              "extra                 -0.858735  ...              0.147109\n",
              "mta_tax               -0.028355  ...              0.409854\n",
              "tip_amount             0.021642  ...             -0.008575\n",
              "tolls_amount           0.010144  ...             -0.124516\n",
              "improvement_surcharge -0.039408  ...              0.320042\n",
              "total_amount          -0.001597  ...             -0.003494\n",
              "congestion_surcharge  -0.009748  ...              1.000000\n",
              "\n",
              "[15 rows x 15 columns]"
            ]
          },
          "metadata": {
            "tags": []
          },
          "execution_count": 6
        }
      ]
    },
    {
      "cell_type": "markdown",
      "metadata": {
        "id": "HnV374Zx85NA"
      },
      "source": [
        "I tried the 'pairplot' below but it does not work!"
      ]
    },
    {
      "cell_type": "code",
      "metadata": {
        "id": "k8igHaRaIjMF"
      },
      "source": [
        "# sns.pairplot(df)\r\n"
      ],
      "execution_count": 7,
      "outputs": []
    },
    {
      "cell_type": "markdown",
      "metadata": {
        "id": "PsF3BFXF9lG1"
      },
      "source": [
        "Here I am using two charts, one I got it from the internet and the another one from what I learnt in the leacture"
      ]
    },
    {
      "cell_type": "code",
      "metadata": {
        "id": "v0i8HnN6IjTs",
        "colab": {
          "base_uri": "https://localhost:8080/",
          "height": 661
        },
        "outputId": "1a89945f-3b71-42d8-c32d-6bf5e4b3ccef"
      },
      "source": [
        "fig = plt.figure(figsize=(10,10))\r\n",
        "ax = fig.add_subplot(111)\r\n",
        "cax = ax.matshow(corr,cmap='coolwarm', vmin=-1, vmax=1)\r\n",
        "fig.colorbar(cax)\r\n",
        "ticks = np.arange(0,len(df.columns),1)\r\n",
        "ax.set_xticks(ticks)\r\n",
        "plt.xticks(rotation=90)\r\n",
        "ax.set_yticks(ticks)\r\n",
        "ax.set_xticklabels(df.columns)\r\n",
        "ax.set_yticklabels(df.columns)\r\n",
        "plt.show()"
      ],
      "execution_count": 8,
      "outputs": [
        {
          "output_type": "display_data",
          "data": {
            "image/png": "[encoded data removed]",
            "text/plain": [
              "<Figure size 720x720 with 2 Axes>"
            ]
          },
          "metadata": {
            "tags": [],
            "needs_background": "light"
          }
        }
      ]
    },
    {
      "cell_type": "code",
      "metadata": {
        "colab": {
          "base_uri": "https://localhost:8080/",
          "height": 381
        },
        "id": "YF0IjsMkxhRr",
        "outputId": "b474abf3-639b-4fa2-f776-0c08959d0ab8"
      },
      "source": [
        "corr.style.background_gradient(cmap='coolwarm')"
      ],
      "execution_count": 9,
      "outputs": [
        {
          "output_type": "execute_result",
          "data": {
            "text/html": [
              "<style  type=\"text/css\" >\n",
              "#T_6ef0eeaa_6456_11eb_89a2_0242ac1c0002row0_col0,#T_6ef0eeaa_6456_11eb_89a2_0242ac1c0002row1_col1,#T_6ef0eeaa_6456_11eb_89a2_0242ac1c0002row2_col2,#T_6ef0eeaa_6456_11eb_89a2_0242ac1c0002row3_col3,#T_6ef0eeaa_6456_11eb_89a2_0242ac1c0002row4_col4,#T_6ef0eeaa_6456_11eb_89a2_0242ac1c0002row5_col5,#T_6ef0eeaa_6456_11eb_89a2_0242ac1c0002row6_col6,#T_6ef0eeaa_6456_11eb_89a2_0242ac1c0002row7_col7,#T_6ef0eeaa_6456_11eb_89a2_0242ac1c0002row7_col13,#T_6ef0eeaa_6456_11eb_89a2_0242ac1c0002row8_col8,#T_6ef0eeaa_6456_11eb_89a2_0242ac1c0002row9_col9,#T_6ef0eeaa_6456_11eb_89a2_0242ac1c0002row10_col10,#T_6ef0eeaa_6456_11eb_89a2_0242ac1c0002row11_col11,#T_6ef0eeaa_6456_11eb_89a2_0242ac1c0002row12_col12,#T_6ef0eeaa_6456_11eb_89a2_0242ac1c0002row13_col7,#T_6ef0eeaa_6456_11eb_89a2_0242ac1c0002row13_col13,#T_6ef0eeaa_6456_11eb_89a2_0242ac1c0002row14_col14{\n",
              "            background-color:  #b40426;\n",
              "            color:  #f1f1f1;\n",
              "        }#T_6ef0eeaa_6456_11eb_89a2_0242ac1c0002row0_col1{\n",
              "            background-color:  #92b4fe;\n",
              "            color:  #000000;\n",
              "        }#T_6ef0eeaa_6456_11eb_89a2_0242ac1c0002row0_col2,#T_6ef0eeaa_6456_11eb_89a2_0242ac1c0002row4_col5,#T_6ef0eeaa_6456_11eb_89a2_0242ac1c0002row13_col2{\n",
              "            background-color:  #799cf8;\n",
              "            color:  #000000;\n",
              "        }#T_6ef0eeaa_6456_11eb_89a2_0242ac1c0002row0_col3,#T_6ef0eeaa_6456_11eb_89a2_0242ac1c0002row4_col9{\n",
              "            background-color:  #6e90f2;\n",
              "            color:  #000000;\n",
              "        }#T_6ef0eeaa_6456_11eb_89a2_0242ac1c0002row0_col4,#T_6ef0eeaa_6456_11eb_89a2_0242ac1c0002row1_col4,#T_6ef0eeaa_6456_11eb_89a2_0242ac1c0002row2_col9,#T_6ef0eeaa_6456_11eb_89a2_0242ac1c0002row3_col4{\n",
              "            background-color:  #536edd;\n",
              "            color:  #000000;\n",
              "        }#T_6ef0eeaa_6456_11eb_89a2_0242ac1c0002row0_col5,#T_6ef0eeaa_6456_11eb_89a2_0242ac1c0002row3_col14,#T_6ef0eeaa_6456_11eb_89a2_0242ac1c0002row4_col2,#T_6ef0eeaa_6456_11eb_89a2_0242ac1c0002row7_col5,#T_6ef0eeaa_6456_11eb_89a2_0242ac1c0002row9_col4,#T_6ef0eeaa_6456_11eb_89a2_0242ac1c0002row12_col5,#T_6ef0eeaa_6456_11eb_89a2_0242ac1c0002row13_col5{\n",
              "            background-color:  #5875e1;\n",
              "            color:  #000000;\n",
              "        }#T_6ef0eeaa_6456_11eb_89a2_0242ac1c0002row0_col6{\n",
              "            background-color:  #a5c3fe;\n",
              "            color:  #000000;\n",
              "        }#T_6ef0eeaa_6456_11eb_89a2_0242ac1c0002row0_col7,#T_6ef0eeaa_6456_11eb_89a2_0242ac1c0002row1_col7,#T_6ef0eeaa_6456_11eb_89a2_0242ac1c0002row1_col13,#T_6ef0eeaa_6456_11eb_89a2_0242ac1c0002row4_col7,#T_6ef0eeaa_6456_11eb_89a2_0242ac1c0002row4_col13,#T_6ef0eeaa_6456_11eb_89a2_0242ac1c0002row5_col7,#T_6ef0eeaa_6456_11eb_89a2_0242ac1c0002row5_col13,#T_6ef0eeaa_6456_11eb_89a2_0242ac1c0002row8_col13{\n",
              "            background-color:  #3d50c3;\n",
              "            color:  #f1f1f1;\n",
              "        }#T_6ef0eeaa_6456_11eb_89a2_0242ac1c0002row0_col8,#T_6ef0eeaa_6456_11eb_89a2_0242ac1c0002row2_col4,#T_6ef0eeaa_6456_11eb_89a2_0242ac1c0002row2_col5,#T_6ef0eeaa_6456_11eb_89a2_0242ac1c0002row2_col14,#T_6ef0eeaa_6456_11eb_89a2_0242ac1c0002row3_col9,#T_6ef0eeaa_6456_11eb_89a2_0242ac1c0002row6_col9,#T_6ef0eeaa_6456_11eb_89a2_0242ac1c0002row6_col10,#T_6ef0eeaa_6456_11eb_89a2_0242ac1c0002row6_col12,#T_6ef0eeaa_6456_11eb_89a2_0242ac1c0002row8_col0,#T_6ef0eeaa_6456_11eb_89a2_0242ac1c0002row8_col1,#T_6ef0eeaa_6456_11eb_89a2_0242ac1c0002row9_col3,#T_6ef0eeaa_6456_11eb_89a2_0242ac1c0002row9_col11,#T_6ef0eeaa_6456_11eb_89a2_0242ac1c0002row9_col13,#T_6ef0eeaa_6456_11eb_89a2_0242ac1c0002row10_col6,#T_6ef0eeaa_6456_11eb_89a2_0242ac1c0002row12_col7,#T_6ef0eeaa_6456_11eb_89a2_0242ac1c0002row12_col13,#T_6ef0eeaa_6456_11eb_89a2_0242ac1c0002row14_col2{\n",
              "            background-color:  #3b4cc0;\n",
              "            color:  #f1f1f1;\n",
              "        }#T_6ef0eeaa_6456_11eb_89a2_0242ac1c0002row0_col9,#T_6ef0eeaa_6456_11eb_89a2_0242ac1c0002row11_col1,#T_6ef0eeaa_6456_11eb_89a2_0242ac1c0002row14_col1{\n",
              "            background-color:  #6384eb;\n",
              "            color:  #000000;\n",
              "        }#T_6ef0eeaa_6456_11eb_89a2_0242ac1c0002row0_col10{\n",
              "            background-color:  #adc9fd;\n",
              "            color:  #000000;\n",
              "        }#T_6ef0eeaa_6456_11eb_89a2_0242ac1c0002row0_col11,#T_6ef0eeaa_6456_11eb_89a2_0242ac1c0002row1_col3,#T_6ef0eeaa_6456_11eb_89a2_0242ac1c0002row1_col9,#T_6ef0eeaa_6456_11eb_89a2_0242ac1c0002row1_col11,#T_6ef0eeaa_6456_11eb_89a2_0242ac1c0002row5_col3,#T_6ef0eeaa_6456_11eb_89a2_0242ac1c0002row7_col11{\n",
              "            background-color:  #6b8df0;\n",
              "            color:  #000000;\n",
              "        }#T_6ef0eeaa_6456_11eb_89a2_0242ac1c0002row0_col12,#T_6ef0eeaa_6456_11eb_89a2_0242ac1c0002row3_col12,#T_6ef0eeaa_6456_11eb_89a2_0242ac1c0002row7_col9,#T_6ef0eeaa_6456_11eb_89a2_0242ac1c0002row13_col9{\n",
              "            background-color:  #6a8bef;\n",
              "            color:  #000000;\n",
              "        }#T_6ef0eeaa_6456_11eb_89a2_0242ac1c0002row0_col13,#T_6ef0eeaa_6456_11eb_89a2_0242ac1c0002row9_col7,#T_6ef0eeaa_6456_11eb_89a2_0242ac1c0002row14_col7,#T_6ef0eeaa_6456_11eb_89a2_0242ac1c0002row14_col13{\n",
              "            background-color:  #3c4ec2;\n",
              "            color:  #f1f1f1;\n",
              "        }#T_6ef0eeaa_6456_11eb_89a2_0242ac1c0002row0_col14,#T_6ef0eeaa_6456_11eb_89a2_0242ac1c0002row10_col14{\n",
              "            background-color:  #6f92f3;\n",
              "            color:  #000000;\n",
              "        }#T_6ef0eeaa_6456_11eb_89a2_0242ac1c0002row1_col0{\n",
              "            background-color:  #ead5c9;\n",
              "            color:  #000000;\n",
              "        }#T_6ef0eeaa_6456_11eb_89a2_0242ac1c0002row1_col2,#T_6ef0eeaa_6456_11eb_89a2_0242ac1c0002row7_col2,#T_6ef0eeaa_6456_11eb_89a2_0242ac1c0002row12_col2{\n",
              "            background-color:  #779af7;\n",
              "            color:  #000000;\n",
              "        }#T_6ef0eeaa_6456_11eb_89a2_0242ac1c0002row1_col5{\n",
              "            background-color:  #5673e0;\n",
              "            color:  #000000;\n",
              "        }#T_6ef0eeaa_6456_11eb_89a2_0242ac1c0002row1_col6,#T_6ef0eeaa_6456_11eb_89a2_0242ac1c0002row13_col10{\n",
              "            background-color:  #abc8fd;\n",
              "            color:  #000000;\n",
              "        }#T_6ef0eeaa_6456_11eb_89a2_0242ac1c0002row1_col8{\n",
              "            background-color:  #bcd2f7;\n",
              "            color:  #000000;\n",
              "        }#T_6ef0eeaa_6456_11eb_89a2_0242ac1c0002row1_col10{\n",
              "            background-color:  #a7c5fe;\n",
              "            color:  #000000;\n",
              "        }#T_6ef0eeaa_6456_11eb_89a2_0242ac1c0002row1_col12,#T_6ef0eeaa_6456_11eb_89a2_0242ac1c0002row1_col14,#T_6ef0eeaa_6456_11eb_89a2_0242ac1c0002row4_col12,#T_6ef0eeaa_6456_11eb_89a2_0242ac1c0002row5_col4{\n",
              "            background-color:  #7699f6;\n",
              "            color:  #000000;\n",
              "        }#T_6ef0eeaa_6456_11eb_89a2_0242ac1c0002row2_col0,#T_6ef0eeaa_6456_11eb_89a2_0242ac1c0002row10_col0{\n",
              "            background-color:  #d6dce4;\n",
              "            color:  #000000;\n",
              "        }#T_6ef0eeaa_6456_11eb_89a2_0242ac1c0002row2_col1,#T_6ef0eeaa_6456_11eb_89a2_0242ac1c0002row6_col1,#T_6ef0eeaa_6456_11eb_89a2_0242ac1c0002row8_col3{\n",
              "            background-color:  #6485ec;\n",
              "            color:  #000000;\n",
              "        }#T_6ef0eeaa_6456_11eb_89a2_0242ac1c0002row2_col3,#T_6ef0eeaa_6456_11eb_89a2_0242ac1c0002row3_col11{\n",
              "            background-color:  #96b7ff;\n",
              "            color:  #000000;\n",
              "        }#T_6ef0eeaa_6456_11eb_89a2_0242ac1c0002row2_col6,#T_6ef0eeaa_6456_11eb_89a2_0242ac1c0002row8_col6{\n",
              "            background-color:  #a2c1ff;\n",
              "            color:  #000000;\n",
              "        }#T_6ef0eeaa_6456_11eb_89a2_0242ac1c0002row2_col7,#T_6ef0eeaa_6456_11eb_89a2_0242ac1c0002row2_col13,#T_6ef0eeaa_6456_11eb_89a2_0242ac1c0002row6_col14{\n",
              "            background-color:  #4358cb;\n",
              "            color:  #f1f1f1;\n",
              "        }#T_6ef0eeaa_6456_11eb_89a2_0242ac1c0002row2_col8,#T_6ef0eeaa_6456_11eb_89a2_0242ac1c0002row7_col0,#T_6ef0eeaa_6456_11eb_89a2_0242ac1c0002row7_col8,#T_6ef0eeaa_6456_11eb_89a2_0242ac1c0002row10_col8,#T_6ef0eeaa_6456_11eb_89a2_0242ac1c0002row11_col8,#T_6ef0eeaa_6456_11eb_89a2_0242ac1c0002row13_col0,#T_6ef0eeaa_6456_11eb_89a2_0242ac1c0002row13_col8{\n",
              "            background-color:  #d3dbe7;\n",
              "            color:  #000000;\n",
              "        }#T_6ef0eeaa_6456_11eb_89a2_0242ac1c0002row2_col10{\n",
              "            background-color:  #f7b89c;\n",
              "            color:  #000000;\n",
              "        }#T_6ef0eeaa_6456_11eb_89a2_0242ac1c0002row2_col11{\n",
              "            background-color:  #f7b79b;\n",
              "            color:  #000000;\n",
              "        }#T_6ef0eeaa_6456_11eb_89a2_0242ac1c0002row2_col12,#T_6ef0eeaa_6456_11eb_89a2_0242ac1c0002row11_col12{\n",
              "            background-color:  #7a9df8;\n",
              "            color:  #000000;\n",
              "        }#T_6ef0eeaa_6456_11eb_89a2_0242ac1c0002row3_col0,#T_6ef0eeaa_6456_11eb_89a2_0242ac1c0002row11_col0{\n",
              "            background-color:  #d4dbe6;\n",
              "            color:  #000000;\n",
              "        }#T_6ef0eeaa_6456_11eb_89a2_0242ac1c0002row3_col1,#T_6ef0eeaa_6456_11eb_89a2_0242ac1c0002row7_col1,#T_6ef0eeaa_6456_11eb_89a2_0242ac1c0002row10_col1,#T_6ef0eeaa_6456_11eb_89a2_0242ac1c0002row12_col3,#T_6ef0eeaa_6456_11eb_89a2_0242ac1c0002row13_col1{\n",
              "            background-color:  #5f7fe8;\n",
              "            color:  #000000;\n",
              "        }#T_6ef0eeaa_6456_11eb_89a2_0242ac1c0002row3_col2{\n",
              "            background-color:  #9bbcff;\n",
              "            color:  #000000;\n",
              "        }#T_6ef0eeaa_6456_11eb_89a2_0242ac1c0002row3_col5,#T_6ef0eeaa_6456_11eb_89a2_0242ac1c0002row8_col4{\n",
              "            background-color:  #5977e3;\n",
              "            color:  #000000;\n",
              "        }#T_6ef0eeaa_6456_11eb_89a2_0242ac1c0002row3_col6,#T_6ef0eeaa_6456_11eb_89a2_0242ac1c0002row7_col6,#T_6ef0eeaa_6456_11eb_89a2_0242ac1c0002row8_col10,#T_6ef0eeaa_6456_11eb_89a2_0242ac1c0002row13_col6{\n",
              "            background-color:  #a9c6fd;\n",
              "            color:  #000000;\n",
              "        }#T_6ef0eeaa_6456_11eb_89a2_0242ac1c0002row3_col7,#T_6ef0eeaa_6456_11eb_89a2_0242ac1c0002row3_col13,#T_6ef0eeaa_6456_11eb_89a2_0242ac1c0002row6_col13,#T_6ef0eeaa_6456_11eb_89a2_0242ac1c0002row8_col7,#T_6ef0eeaa_6456_11eb_89a2_0242ac1c0002row11_col9{\n",
              "            background-color:  #3e51c5;\n",
              "            color:  #f1f1f1;\n",
              "        }#T_6ef0eeaa_6456_11eb_89a2_0242ac1c0002row3_col8,#T_6ef0eeaa_6456_11eb_89a2_0242ac1c0002row6_col8{\n",
              "            background-color:  #cfdaea;\n",
              "            color:  #000000;\n",
              "        }#T_6ef0eeaa_6456_11eb_89a2_0242ac1c0002row3_col10{\n",
              "            background-color:  #c5d6f2;\n",
              "            color:  #000000;\n",
              "        }#T_6ef0eeaa_6456_11eb_89a2_0242ac1c0002row4_col0,#T_6ef0eeaa_6456_11eb_89a2_0242ac1c0002row5_col0{\n",
              "            background-color:  #d2dbe8;\n",
              "            color:  #000000;\n",
              "        }#T_6ef0eeaa_6456_11eb_89a2_0242ac1c0002row4_col1,#T_6ef0eeaa_6456_11eb_89a2_0242ac1c0002row5_col1,#T_6ef0eeaa_6456_11eb_89a2_0242ac1c0002row6_col11{\n",
              "            background-color:  #5e7de7;\n",
              "            color:  #000000;\n",
              "        }#T_6ef0eeaa_6456_11eb_89a2_0242ac1c0002row4_col3,#T_6ef0eeaa_6456_11eb_89a2_0242ac1c0002row8_col11{\n",
              "            background-color:  #688aef;\n",
              "            color:  #000000;\n",
              "        }#T_6ef0eeaa_6456_11eb_89a2_0242ac1c0002row4_col6,#T_6ef0eeaa_6456_11eb_89a2_0242ac1c0002row4_col10,#T_6ef0eeaa_6456_11eb_89a2_0242ac1c0002row5_col6{\n",
              "            background-color:  #a1c0ff;\n",
              "            color:  #000000;\n",
              "        }#T_6ef0eeaa_6456_11eb_89a2_0242ac1c0002row4_col8,#T_6ef0eeaa_6456_11eb_89a2_0242ac1c0002row5_col8{\n",
              "            background-color:  #d5dbe5;\n",
              "            color:  #000000;\n",
              "        }#T_6ef0eeaa_6456_11eb_89a2_0242ac1c0002row4_col11,#T_6ef0eeaa_6456_11eb_89a2_0242ac1c0002row9_col2,#T_6ef0eeaa_6456_11eb_89a2_0242ac1c0002row10_col9{\n",
              "            background-color:  #5a78e4;\n",
              "            color:  #000000;\n",
              "        }#T_6ef0eeaa_6456_11eb_89a2_0242ac1c0002row4_col14,#T_6ef0eeaa_6456_11eb_89a2_0242ac1c0002row5_col14{\n",
              "            background-color:  #97b8ff;\n",
              "            color:  #000000;\n",
              "        }#T_6ef0eeaa_6456_11eb_89a2_0242ac1c0002row5_col2{\n",
              "            background-color:  #5470de;\n",
              "            color:  #000000;\n",
              "        }#T_6ef0eeaa_6456_11eb_89a2_0242ac1c0002row5_col9,#T_6ef0eeaa_6456_11eb_89a2_0242ac1c0002row12_col6{\n",
              "            background-color:  #7396f5;\n",
              "            color:  #000000;\n",
              "        }#T_6ef0eeaa_6456_11eb_89a2_0242ac1c0002row5_col10,#T_6ef0eeaa_6456_11eb_89a2_0242ac1c0002row11_col6{\n",
              "            background-color:  #9fbfff;\n",
              "            color:  #000000;\n",
              "        }#T_6ef0eeaa_6456_11eb_89a2_0242ac1c0002row5_col11,#T_6ef0eeaa_6456_11eb_89a2_0242ac1c0002row7_col4,#T_6ef0eeaa_6456_11eb_89a2_0242ac1c0002row12_col4,#T_6ef0eeaa_6456_11eb_89a2_0242ac1c0002row13_col4{\n",
              "            background-color:  #5572df;\n",
              "            color:  #000000;\n",
              "        }#T_6ef0eeaa_6456_11eb_89a2_0242ac1c0002row5_col12{\n",
              "            background-color:  #7597f6;\n",
              "            color:  #000000;\n",
              "        }#T_6ef0eeaa_6456_11eb_89a2_0242ac1c0002row6_col0,#T_6ef0eeaa_6456_11eb_89a2_0242ac1c0002row14_col0{\n",
              "            background-color:  #d1dae9;\n",
              "            color:  #000000;\n",
              "        }#T_6ef0eeaa_6456_11eb_89a2_0242ac1c0002row6_col2,#T_6ef0eeaa_6456_11eb_89a2_0242ac1c0002row6_col3,#T_6ef0eeaa_6456_11eb_89a2_0242ac1c0002row7_col3,#T_6ef0eeaa_6456_11eb_89a2_0242ac1c0002row12_col11,#T_6ef0eeaa_6456_11eb_89a2_0242ac1c0002row13_col3,#T_6ef0eeaa_6456_11eb_89a2_0242ac1c0002row13_col11{\n",
              "            background-color:  #6c8ff1;\n",
              "            color:  #000000;\n",
              "        }#T_6ef0eeaa_6456_11eb_89a2_0242ac1c0002row6_col4,#T_6ef0eeaa_6456_11eb_89a2_0242ac1c0002row10_col4{\n",
              "            background-color:  #4c66d6;\n",
              "            color:  #000000;\n",
              "        }#T_6ef0eeaa_6456_11eb_89a2_0242ac1c0002row6_col5{\n",
              "            background-color:  #4f69d9;\n",
              "            color:  #000000;\n",
              "        }#T_6ef0eeaa_6456_11eb_89a2_0242ac1c0002row6_col7{\n",
              "            background-color:  #3f53c6;\n",
              "            color:  #f1f1f1;\n",
              "        }#T_6ef0eeaa_6456_11eb_89a2_0242ac1c0002row7_col10{\n",
              "            background-color:  #aac7fd;\n",
              "            color:  #000000;\n",
              "        }#T_6ef0eeaa_6456_11eb_89a2_0242ac1c0002row7_col12,#T_6ef0eeaa_6456_11eb_89a2_0242ac1c0002row8_col2,#T_6ef0eeaa_6456_11eb_89a2_0242ac1c0002row13_col12{\n",
              "            background-color:  #7295f4;\n",
              "            color:  #000000;\n",
              "        }#T_6ef0eeaa_6456_11eb_89a2_0242ac1c0002row7_col14,#T_6ef0eeaa_6456_11eb_89a2_0242ac1c0002row13_col14{\n",
              "            background-color:  #7093f3;\n",
              "            color:  #000000;\n",
              "        }#T_6ef0eeaa_6456_11eb_89a2_0242ac1c0002row8_col5{\n",
              "            background-color:  #5d7ce6;\n",
              "            color:  #000000;\n",
              "        }#T_6ef0eeaa_6456_11eb_89a2_0242ac1c0002row8_col9,#T_6ef0eeaa_6456_11eb_89a2_0242ac1c0002row14_col6{\n",
              "            background-color:  #7ea1fa;\n",
              "            color:  #000000;\n",
              "        }#T_6ef0eeaa_6456_11eb_89a2_0242ac1c0002row8_col12{\n",
              "            background-color:  #86a9fc;\n",
              "            color:  #000000;\n",
              "        }#T_6ef0eeaa_6456_11eb_89a2_0242ac1c0002row8_col14{\n",
              "            background-color:  #9dbdff;\n",
              "            color:  #000000;\n",
              "        }#T_6ef0eeaa_6456_11eb_89a2_0242ac1c0002row9_col0{\n",
              "            background-color:  #cedaeb;\n",
              "            color:  #000000;\n",
              "        }#T_6ef0eeaa_6456_11eb_89a2_0242ac1c0002row9_col1,#T_6ef0eeaa_6456_11eb_89a2_0242ac1c0002row9_col5,#T_6ef0eeaa_6456_11eb_89a2_0242ac1c0002row12_col1{\n",
              "            background-color:  #6180e9;\n",
              "            color:  #000000;\n",
              "        }#T_6ef0eeaa_6456_11eb_89a2_0242ac1c0002row9_col6,#T_6ef0eeaa_6456_11eb_89a2_0242ac1c0002row14_col4{\n",
              "            background-color:  #7da0f9;\n",
              "            color:  #000000;\n",
              "        }#T_6ef0eeaa_6456_11eb_89a2_0242ac1c0002row9_col8,#T_6ef0eeaa_6456_11eb_89a2_0242ac1c0002row12_col8{\n",
              "            background-color:  #dcdddd;\n",
              "            color:  #000000;\n",
              "        }#T_6ef0eeaa_6456_11eb_89a2_0242ac1c0002row9_col10,#T_6ef0eeaa_6456_11eb_89a2_0242ac1c0002row11_col3{\n",
              "            background-color:  #9abbff;\n",
              "            color:  #000000;\n",
              "        }#T_6ef0eeaa_6456_11eb_89a2_0242ac1c0002row9_col12{\n",
              "            background-color:  #ef886b;\n",
              "            color:  #000000;\n",
              "        }#T_6ef0eeaa_6456_11eb_89a2_0242ac1c0002row9_col14,#T_6ef0eeaa_6456_11eb_89a2_0242ac1c0002row10_col11{\n",
              "            background-color:  #e0dbd8;\n",
              "            color:  #000000;\n",
              "        }#T_6ef0eeaa_6456_11eb_89a2_0242ac1c0002row10_col2{\n",
              "            background-color:  #f1cdba;\n",
              "            color:  #000000;\n",
              "        }#T_6ef0eeaa_6456_11eb_89a2_0242ac1c0002row10_col3{\n",
              "            background-color:  #93b5fe;\n",
              "            color:  #000000;\n",
              "        }#T_6ef0eeaa_6456_11eb_89a2_0242ac1c0002row10_col5{\n",
              "            background-color:  #4e68d8;\n",
              "            color:  #000000;\n",
              "        }#T_6ef0eeaa_6456_11eb_89a2_0242ac1c0002row10_col7,#T_6ef0eeaa_6456_11eb_89a2_0242ac1c0002row11_col7{\n",
              "            background-color:  #4055c8;\n",
              "            color:  #f1f1f1;\n",
              "        }#T_6ef0eeaa_6456_11eb_89a2_0242ac1c0002row10_col12{\n",
              "            background-color:  #81a4fb;\n",
              "            color:  #000000;\n",
              "        }#T_6ef0eeaa_6456_11eb_89a2_0242ac1c0002row10_col13,#T_6ef0eeaa_6456_11eb_89a2_0242ac1c0002row11_col13{\n",
              "            background-color:  #4257c9;\n",
              "            color:  #f1f1f1;\n",
              "        }#T_6ef0eeaa_6456_11eb_89a2_0242ac1c0002row11_col2{\n",
              "            background-color:  #f7b396;\n",
              "            color:  #000000;\n",
              "        }#T_6ef0eeaa_6456_11eb_89a2_0242ac1c0002row11_col4{\n",
              "            background-color:  #465ecf;\n",
              "            color:  #f1f1f1;\n",
              "        }#T_6ef0eeaa_6456_11eb_89a2_0242ac1c0002row11_col5,#T_6ef0eeaa_6456_11eb_89a2_0242ac1c0002row14_col11{\n",
              "            background-color:  #455cce;\n",
              "            color:  #f1f1f1;\n",
              "        }#T_6ef0eeaa_6456_11eb_89a2_0242ac1c0002row11_col10{\n",
              "            background-color:  #f3c7b1;\n",
              "            color:  #000000;\n",
              "        }#T_6ef0eeaa_6456_11eb_89a2_0242ac1c0002row11_col14,#T_6ef0eeaa_6456_11eb_89a2_0242ac1c0002row14_col3{\n",
              "            background-color:  #506bda;\n",
              "            color:  #000000;\n",
              "        }#T_6ef0eeaa_6456_11eb_89a2_0242ac1c0002row12_col0,#T_6ef0eeaa_6456_11eb_89a2_0242ac1c0002row12_col14{\n",
              "            background-color:  #ccd9ed;\n",
              "            color:  #000000;\n",
              "        }#T_6ef0eeaa_6456_11eb_89a2_0242ac1c0002row12_col9{\n",
              "            background-color:  #f08b6e;\n",
              "            color:  #000000;\n",
              "        }#T_6ef0eeaa_6456_11eb_89a2_0242ac1c0002row12_col10{\n",
              "            background-color:  #b1cbfc;\n",
              "            color:  #000000;\n",
              "        }#T_6ef0eeaa_6456_11eb_89a2_0242ac1c0002row14_col5{\n",
              "            background-color:  #80a3fa;\n",
              "            color:  #000000;\n",
              "        }#T_6ef0eeaa_6456_11eb_89a2_0242ac1c0002row14_col8{\n",
              "            background-color:  #e7d7ce;\n",
              "            color:  #000000;\n",
              "        }#T_6ef0eeaa_6456_11eb_89a2_0242ac1c0002row14_col9{\n",
              "            background-color:  #dddcdc;\n",
              "            color:  #000000;\n",
              "        }#T_6ef0eeaa_6456_11eb_89a2_0242ac1c0002row14_col10{\n",
              "            background-color:  #a6c4fe;\n",
              "            color:  #000000;\n",
              "        }#T_6ef0eeaa_6456_11eb_89a2_0242ac1c0002row14_col12{\n",
              "            background-color:  #cdd9ec;\n",
              "            color:  #000000;\n",
              "        }</style><table id=\"T_6ef0eeaa_6456_11eb_89a2_0242ac1c0002\" ><thead>    <tr>        <th class=\"blank level0\" ></th>        <th class=\"col_heading level0 col0\" >VendorID</th>        <th class=\"col_heading level0 col1\" >passenger_count</th>        <th class=\"col_heading level0 col2\" >trip_distance</th>        <th class=\"col_heading level0 col3\" >RatecodeID</th>        <th class=\"col_heading level0 col4\" >PULocationID</th>        <th class=\"col_heading level0 col5\" >DOLocationID</th>        <th class=\"col_heading level0 col6\" >payment_type</th>        <th class=\"col_heading level0 col7\" >fare_amount</th>        <th class=\"col_heading level0 col8\" >extra</th>        <th class=\"col_heading level0 col9\" >mta_tax</th>        <th class=\"col_heading level0 col10\" >tip_amount</th>        <th class=\"col_heading level0 col11\" >tolls_amount</th>        <th class=\"col_heading level0 col12\" >improvement_surcharge</th>        <th class=\"col_heading level0 col13\" >total_amount</th>        <th class=\"col_heading level0 col14\" >congestion_surcharge</th>    </tr></thead><tbody>\n",
              "                <tr>\n",
              "                        <th id=\"T_6ef0eeaa_6456_11eb_89a2_0242ac1c0002level0_row0\" class=\"row_heading level0 row0\" >VendorID</th>\n",
              "                        <td id=\"T_6ef0eeaa_6456_11eb_89a2_0242ac1c0002row0_col0\" class=\"data row0 col0\" >1.000000</td>\n",
              "                        <td id=\"T_6ef0eeaa_6456_11eb_89a2_0242ac1c0002row0_col1\" class=\"data row0 col1\" >0.165798</td>\n",
              "                        <td id=\"T_6ef0eeaa_6456_11eb_89a2_0242ac1c0002row0_col2\" class=\"data row0 col2\" >0.025826</td>\n",
              "                        <td id=\"T_6ef0eeaa_6456_11eb_89a2_0242ac1c0002row0_col3\" class=\"data row0 col3\" >0.009225</td>\n",
              "                        <td id=\"T_6ef0eeaa_6456_11eb_89a2_0242ac1c0002row0_col4\" class=\"data row0 col4\" >-0.006963</td>\n",
              "                        <td id=\"T_6ef0eeaa_6456_11eb_89a2_0242ac1c0002row0_col5\" class=\"data row0 col5\" >-0.002515</td>\n",
              "                        <td id=\"T_6ef0eeaa_6456_11eb_89a2_0242ac1c0002row0_col6\" class=\"data row0 col6\" >-0.012707</td>\n",
              "                        <td id=\"T_6ef0eeaa_6456_11eb_89a2_0242ac1c0002row0_col7\" class=\"data row0 col7\" >-0.001725</td>\n",
              "                        <td id=\"T_6ef0eeaa_6456_11eb_89a2_0242ac1c0002row0_col8\" class=\"data row0 col8\" >-0.858735</td>\n",
              "                        <td id=\"T_6ef0eeaa_6456_11eb_89a2_0242ac1c0002row0_col9\" class=\"data row0 col9\" >-0.028355</td>\n",
              "                        <td id=\"T_6ef0eeaa_6456_11eb_89a2_0242ac1c0002row0_col10\" class=\"data row0 col10\" >0.021642</td>\n",
              "                        <td id=\"T_6ef0eeaa_6456_11eb_89a2_0242ac1c0002row0_col11\" class=\"data row0 col11\" >0.010144</td>\n",
              "                        <td id=\"T_6ef0eeaa_6456_11eb_89a2_0242ac1c0002row0_col12\" class=\"data row0 col12\" >-0.039408</td>\n",
              "                        <td id=\"T_6ef0eeaa_6456_11eb_89a2_0242ac1c0002row0_col13\" class=\"data row0 col13\" >-0.001597</td>\n",
              "                        <td id=\"T_6ef0eeaa_6456_11eb_89a2_0242ac1c0002row0_col14\" class=\"data row0 col14\" >-0.009748</td>\n",
              "            </tr>\n",
              "            <tr>\n",
              "                        <th id=\"T_6ef0eeaa_6456_11eb_89a2_0242ac1c0002level0_row1\" class=\"row_heading level0 row1\" >passenger_count</th>\n",
              "                        <td id=\"T_6ef0eeaa_6456_11eb_89a2_0242ac1c0002row1_col0\" class=\"data row1 col0\" >0.165798</td>\n",
              "                        <td id=\"T_6ef0eeaa_6456_11eb_89a2_0242ac1c0002row1_col1\" class=\"data row1 col1\" >1.000000</td>\n",
              "                        <td id=\"T_6ef0eeaa_6456_11eb_89a2_0242ac1c0002row1_col2\" class=\"data row1 col2\" >0.019496</td>\n",
              "                        <td id=\"T_6ef0eeaa_6456_11eb_89a2_0242ac1c0002row1_col3\" class=\"data row1 col3\" >0.000271</td>\n",
              "                        <td id=\"T_6ef0eeaa_6456_11eb_89a2_0242ac1c0002row1_col4\" class=\"data row1 col4\" >-0.006724</td>\n",
              "                        <td id=\"T_6ef0eeaa_6456_11eb_89a2_0242ac1c0002row1_col5\" class=\"data row1 col5\" >-0.004947</td>\n",
              "                        <td id=\"T_6ef0eeaa_6456_11eb_89a2_0242ac1c0002row1_col6\" class=\"data row1 col6\" >0.016564</td>\n",
              "                        <td id=\"T_6ef0eeaa_6456_11eb_89a2_0242ac1c0002row1_col7\" class=\"data row1 col7\" >-0.000294</td>\n",
              "                        <td id=\"T_6ef0eeaa_6456_11eb_89a2_0242ac1c0002row1_col8\" class=\"data row1 col8\" >-0.135692</td>\n",
              "                        <td id=\"T_6ef0eeaa_6456_11eb_89a2_0242ac1c0002row1_col9\" class=\"data row1 col9\" >0.002063</td>\n",
              "                        <td id=\"T_6ef0eeaa_6456_11eb_89a2_0242ac1c0002row1_col10\" class=\"data row1 col10\" >0.000780</td>\n",
              "                        <td id=\"T_6ef0eeaa_6456_11eb_89a2_0242ac1c0002row1_col11\" class=\"data row1 col11\" >0.012475</td>\n",
              "                        <td id=\"T_6ef0eeaa_6456_11eb_89a2_0242ac1c0002row1_col12\" class=\"data row1 col12\" >0.003783</td>\n",
              "                        <td id=\"T_6ef0eeaa_6456_11eb_89a2_0242ac1c0002row1_col13\" class=\"data row1 col13\" >-0.000227</td>\n",
              "                        <td id=\"T_6ef0eeaa_6456_11eb_89a2_0242ac1c0002row1_col14\" class=\"data row1 col14\" >0.013716</td>\n",
              "            </tr>\n",
              "            <tr>\n",
              "                        <th id=\"T_6ef0eeaa_6456_11eb_89a2_0242ac1c0002level0_row2\" class=\"row_heading level0 row2\" >trip_distance</th>\n",
              "                        <td id=\"T_6ef0eeaa_6456_11eb_89a2_0242ac1c0002row2_col0\" class=\"data row2 col0\" >0.025826</td>\n",
              "                        <td id=\"T_6ef0eeaa_6456_11eb_89a2_0242ac1c0002row2_col1\" class=\"data row2 col1\" >0.019496</td>\n",
              "                        <td id=\"T_6ef0eeaa_6456_11eb_89a2_0242ac1c0002row2_col2\" class=\"data row2 col2\" >1.000000</td>\n",
              "                        <td id=\"T_6ef0eeaa_6456_11eb_89a2_0242ac1c0002row2_col3\" class=\"data row2 col3\" >0.144107</td>\n",
              "                        <td id=\"T_6ef0eeaa_6456_11eb_89a2_0242ac1c0002row2_col4\" class=\"data row2 col4\" >-0.094794</td>\n",
              "                        <td id=\"T_6ef0eeaa_6456_11eb_89a2_0242ac1c0002row2_col5\" class=\"data row2 col5\" >-0.107132</td>\n",
              "                        <td id=\"T_6ef0eeaa_6456_11eb_89a2_0242ac1c0002row2_col6\" class=\"data row2 col6\" >-0.020566</td>\n",
              "                        <td id=\"T_6ef0eeaa_6456_11eb_89a2_0242ac1c0002row2_col7\" class=\"data row2 col7\" >0.017491</td>\n",
              "                        <td id=\"T_6ef0eeaa_6456_11eb_89a2_0242ac1c0002row2_col8\" class=\"data row2 col8\" >0.001632</td>\n",
              "                        <td id=\"T_6ef0eeaa_6456_11eb_89a2_0242ac1c0002row2_col9\" class=\"data row2 col9\" >-0.085268</td>\n",
              "                        <td id=\"T_6ef0eeaa_6456_11eb_89a2_0242ac1c0002row2_col10\" class=\"data row2 col10\" >0.506991</td>\n",
              "                        <td id=\"T_6ef0eeaa_6456_11eb_89a2_0242ac1c0002row2_col11\" class=\"data row2 col11\" >0.615388</td>\n",
              "                        <td id=\"T_6ef0eeaa_6456_11eb_89a2_0242ac1c0002row2_col12\" class=\"data row2 col12\" >0.018388</td>\n",
              "                        <td id=\"T_6ef0eeaa_6456_11eb_89a2_0242ac1c0002row2_col13\" class=\"data row2 col13\" >0.021689</td>\n",
              "                        <td id=\"T_6ef0eeaa_6456_11eb_89a2_0242ac1c0002row2_col14\" class=\"data row2 col14\" >-0.210402</td>\n",
              "            </tr>\n",
              "            <tr>\n",
              "                        <th id=\"T_6ef0eeaa_6456_11eb_89a2_0242ac1c0002level0_row3\" class=\"row_heading level0 row3\" >RatecodeID</th>\n",
              "                        <td id=\"T_6ef0eeaa_6456_11eb_89a2_0242ac1c0002row3_col0\" class=\"data row3 col0\" >0.009225</td>\n",
              "                        <td id=\"T_6ef0eeaa_6456_11eb_89a2_0242ac1c0002row3_col1\" class=\"data row3 col1\" >0.000271</td>\n",
              "                        <td id=\"T_6ef0eeaa_6456_11eb_89a2_0242ac1c0002row3_col2\" class=\"data row3 col2\" >0.144107</td>\n",
              "                        <td id=\"T_6ef0eeaa_6456_11eb_89a2_0242ac1c0002row3_col3\" class=\"data row3 col3\" >1.000000</td>\n",
              "                        <td id=\"T_6ef0eeaa_6456_11eb_89a2_0242ac1c0002row3_col4\" class=\"data row3 col4\" >-0.008881</td>\n",
              "                        <td id=\"T_6ef0eeaa_6456_11eb_89a2_0242ac1c0002row3_col5\" class=\"data row3 col5\" >0.002503</td>\n",
              "                        <td id=\"T_6ef0eeaa_6456_11eb_89a2_0242ac1c0002row3_col6\" class=\"data row3 col6\" >0.006139</td>\n",
              "                        <td id=\"T_6ef0eeaa_6456_11eb_89a2_0242ac1c0002row3_col7\" class=\"data row3 col7\" >0.004868</td>\n",
              "                        <td id=\"T_6ef0eeaa_6456_11eb_89a2_0242ac1c0002row3_col8\" class=\"data row3 col8\" >-0.022093</td>\n",
              "                        <td id=\"T_6ef0eeaa_6456_11eb_89a2_0242ac1c0002row3_col9\" class=\"data row3 col9\" >-0.181959</td>\n",
              "                        <td id=\"T_6ef0eeaa_6456_11eb_89a2_0242ac1c0002row3_col10\" class=\"data row3 col10\" >0.133305</td>\n",
              "                        <td id=\"T_6ef0eeaa_6456_11eb_89a2_0242ac1c0002row3_col11\" class=\"data row3 col11\" >0.155296</td>\n",
              "                        <td id=\"T_6ef0eeaa_6456_11eb_89a2_0242ac1c0002row3_col12\" class=\"data row3 col12\" >-0.039509</td>\n",
              "                        <td id=\"T_6ef0eeaa_6456_11eb_89a2_0242ac1c0002row3_col13\" class=\"data row3 col13\" >0.005854</td>\n",
              "                        <td id=\"T_6ef0eeaa_6456_11eb_89a2_0242ac1c0002row3_col14\" class=\"data row3 col14\" >-0.094704</td>\n",
              "            </tr>\n",
              "            <tr>\n",
              "                        <th id=\"T_6ef0eeaa_6456_11eb_89a2_0242ac1c0002level0_row4\" class=\"row_heading level0 row4\" >PULocationID</th>\n",
              "                        <td id=\"T_6ef0eeaa_6456_11eb_89a2_0242ac1c0002row4_col0\" class=\"data row4 col0\" >-0.006963</td>\n",
              "                        <td id=\"T_6ef0eeaa_6456_11eb_89a2_0242ac1c0002row4_col1\" class=\"data row4 col1\" >-0.006724</td>\n",
              "                        <td id=\"T_6ef0eeaa_6456_11eb_89a2_0242ac1c0002row4_col2\" class=\"data row4 col2\" >-0.094794</td>\n",
              "                        <td id=\"T_6ef0eeaa_6456_11eb_89a2_0242ac1c0002row4_col3\" class=\"data row4 col3\" >-0.008881</td>\n",
              "                        <td id=\"T_6ef0eeaa_6456_11eb_89a2_0242ac1c0002row4_col4\" class=\"data row4 col4\" >1.000000</td>\n",
              "                        <td id=\"T_6ef0eeaa_6456_11eb_89a2_0242ac1c0002row4_col5\" class=\"data row4 col5\" >0.107039</td>\n",
              "                        <td id=\"T_6ef0eeaa_6456_11eb_89a2_0242ac1c0002row4_col6\" class=\"data row4 col6\" >-0.028173</td>\n",
              "                        <td id=\"T_6ef0eeaa_6456_11eb_89a2_0242ac1c0002row4_col7\" class=\"data row4 col7\" >-0.000217</td>\n",
              "                        <td id=\"T_6ef0eeaa_6456_11eb_89a2_0242ac1c0002row4_col8\" class=\"data row4 col8\" >0.015927</td>\n",
              "                        <td id=\"T_6ef0eeaa_6456_11eb_89a2_0242ac1c0002row4_col9\" class=\"data row4 col9\" >0.010784</td>\n",
              "                        <td id=\"T_6ef0eeaa_6456_11eb_89a2_0242ac1c0002row4_col10\" class=\"data row4 col10\" >-0.027828</td>\n",
              "                        <td id=\"T_6ef0eeaa_6456_11eb_89a2_0242ac1c0002row4_col11\" class=\"data row4 col11\" >-0.049324</td>\n",
              "                        <td id=\"T_6ef0eeaa_6456_11eb_89a2_0242ac1c0002row4_col12\" class=\"data row4 col12\" >0.002824</td>\n",
              "                        <td id=\"T_6ef0eeaa_6456_11eb_89a2_0242ac1c0002row4_col13\" class=\"data row4 col13\" >-0.000370</td>\n",
              "                        <td id=\"T_6ef0eeaa_6456_11eb_89a2_0242ac1c0002row4_col14\" class=\"data row4 col14\" >0.127982</td>\n",
              "            </tr>\n",
              "            <tr>\n",
              "                        <th id=\"T_6ef0eeaa_6456_11eb_89a2_0242ac1c0002level0_row5\" class=\"row_heading level0 row5\" >DOLocationID</th>\n",
              "                        <td id=\"T_6ef0eeaa_6456_11eb_89a2_0242ac1c0002row5_col0\" class=\"data row5 col0\" >-0.002515</td>\n",
              "                        <td id=\"T_6ef0eeaa_6456_11eb_89a2_0242ac1c0002row5_col1\" class=\"data row5 col1\" >-0.004947</td>\n",
              "                        <td id=\"T_6ef0eeaa_6456_11eb_89a2_0242ac1c0002row5_col2\" class=\"data row5 col2\" >-0.107132</td>\n",
              "                        <td id=\"T_6ef0eeaa_6456_11eb_89a2_0242ac1c0002row5_col3\" class=\"data row5 col3\" >0.002503</td>\n",
              "                        <td id=\"T_6ef0eeaa_6456_11eb_89a2_0242ac1c0002row5_col4\" class=\"data row5 col4\" >0.107039</td>\n",
              "                        <td id=\"T_6ef0eeaa_6456_11eb_89a2_0242ac1c0002row5_col5\" class=\"data row5 col5\" >1.000000</td>\n",
              "                        <td id=\"T_6ef0eeaa_6456_11eb_89a2_0242ac1c0002row5_col6\" class=\"data row5 col6\" >-0.029818</td>\n",
              "                        <td id=\"T_6ef0eeaa_6456_11eb_89a2_0242ac1c0002row5_col7\" class=\"data row5 col7\" >-0.000392</td>\n",
              "                        <td id=\"T_6ef0eeaa_6456_11eb_89a2_0242ac1c0002row5_col8\" class=\"data row5 col8\" >0.014882</td>\n",
              "                        <td id=\"T_6ef0eeaa_6456_11eb_89a2_0242ac1c0002row5_col9\" class=\"data row5 col9\" >0.028633</td>\n",
              "                        <td id=\"T_6ef0eeaa_6456_11eb_89a2_0242ac1c0002row5_col10\" class=\"data row5 col10\" >-0.034075</td>\n",
              "                        <td id=\"T_6ef0eeaa_6456_11eb_89a2_0242ac1c0002row5_col11\" class=\"data row5 col11\" >-0.065728</td>\n",
              "                        <td id=\"T_6ef0eeaa_6456_11eb_89a2_0242ac1c0002row5_col12\" class=\"data row5 col12\" >-0.000009</td>\n",
              "                        <td id=\"T_6ef0eeaa_6456_11eb_89a2_0242ac1c0002row5_col13\" class=\"data row5 col13\" >-0.000616</td>\n",
              "                        <td id=\"T_6ef0eeaa_6456_11eb_89a2_0242ac1c0002row5_col14\" class=\"data row5 col14\" >0.129009</td>\n",
              "            </tr>\n",
              "            <tr>\n",
              "                        <th id=\"T_6ef0eeaa_6456_11eb_89a2_0242ac1c0002level0_row6\" class=\"row_heading level0 row6\" >payment_type</th>\n",
              "                        <td id=\"T_6ef0eeaa_6456_11eb_89a2_0242ac1c0002row6_col0\" class=\"data row6 col0\" >-0.012707</td>\n",
              "                        <td id=\"T_6ef0eeaa_6456_11eb_89a2_0242ac1c0002row6_col1\" class=\"data row6 col1\" >0.016564</td>\n",
              "                        <td id=\"T_6ef0eeaa_6456_11eb_89a2_0242ac1c0002row6_col2\" class=\"data row6 col2\" >-0.020566</td>\n",
              "                        <td id=\"T_6ef0eeaa_6456_11eb_89a2_0242ac1c0002row6_col3\" class=\"data row6 col3\" >0.006139</td>\n",
              "                        <td id=\"T_6ef0eeaa_6456_11eb_89a2_0242ac1c0002row6_col4\" class=\"data row6 col4\" >-0.028173</td>\n",
              "                        <td id=\"T_6ef0eeaa_6456_11eb_89a2_0242ac1c0002row6_col5\" class=\"data row6 col5\" >-0.029818</td>\n",
              "                        <td id=\"T_6ef0eeaa_6456_11eb_89a2_0242ac1c0002row6_col6\" class=\"data row6 col6\" >1.000000</td>\n",
              "                        <td id=\"T_6ef0eeaa_6456_11eb_89a2_0242ac1c0002row6_col7\" class=\"data row6 col7\" >0.006944</td>\n",
              "                        <td id=\"T_6ef0eeaa_6456_11eb_89a2_0242ac1c0002row6_col8\" class=\"data row6 col8\" >-0.021476</td>\n",
              "                        <td id=\"T_6ef0eeaa_6456_11eb_89a2_0242ac1c0002row6_col9\" class=\"data row6 col9\" >-0.178163</td>\n",
              "                        <td id=\"T_6ef0eeaa_6456_11eb_89a2_0242ac1c0002row6_col10\" class=\"data row6 col10\" >-0.484442</td>\n",
              "                        <td id=\"T_6ef0eeaa_6456_11eb_89a2_0242ac1c0002row6_col11\" class=\"data row6 col11\" >-0.033897</td>\n",
              "                        <td id=\"T_6ef0eeaa_6456_11eb_89a2_0242ac1c0002row6_col12\" class=\"data row6 col12\" >-0.221938</td>\n",
              "                        <td id=\"T_6ef0eeaa_6456_11eb_89a2_0242ac1c0002row6_col13\" class=\"data row6 col13\" >0.004156</td>\n",
              "                        <td id=\"T_6ef0eeaa_6456_11eb_89a2_0242ac1c0002row6_col14\" class=\"data row6 col14\" >-0.175131</td>\n",
              "            </tr>\n",
              "            <tr>\n",
              "                        <th id=\"T_6ef0eeaa_6456_11eb_89a2_0242ac1c0002level0_row7\" class=\"row_heading level0 row7\" >fare_amount</th>\n",
              "                        <td id=\"T_6ef0eeaa_6456_11eb_89a2_0242ac1c0002row7_col0\" class=\"data row7 col0\" >-0.001725</td>\n",
              "                        <td id=\"T_6ef0eeaa_6456_11eb_89a2_0242ac1c0002row7_col1\" class=\"data row7 col1\" >-0.000294</td>\n",
              "                        <td id=\"T_6ef0eeaa_6456_11eb_89a2_0242ac1c0002row7_col2\" class=\"data row7 col2\" >0.017491</td>\n",
              "                        <td id=\"T_6ef0eeaa_6456_11eb_89a2_0242ac1c0002row7_col3\" class=\"data row7 col3\" >0.004868</td>\n",
              "                        <td id=\"T_6ef0eeaa_6456_11eb_89a2_0242ac1c0002row7_col4\" class=\"data row7 col4\" >-0.000217</td>\n",
              "                        <td id=\"T_6ef0eeaa_6456_11eb_89a2_0242ac1c0002row7_col5\" class=\"data row7 col5\" >-0.000392</td>\n",
              "                        <td id=\"T_6ef0eeaa_6456_11eb_89a2_0242ac1c0002row7_col6\" class=\"data row7 col6\" >0.006944</td>\n",
              "                        <td id=\"T_6ef0eeaa_6456_11eb_89a2_0242ac1c0002row7_col7\" class=\"data row7 col7\" >1.000000</td>\n",
              "                        <td id=\"T_6ef0eeaa_6456_11eb_89a2_0242ac1c0002row7_col8\" class=\"data row7 col8\" >0.001580</td>\n",
              "                        <td id=\"T_6ef0eeaa_6456_11eb_89a2_0242ac1c0002row7_col9\" class=\"data row7 col9\" >-0.006006</td>\n",
              "                        <td id=\"T_6ef0eeaa_6456_11eb_89a2_0242ac1c0002row7_col10\" class=\"data row7 col10\" >0.010816</td>\n",
              "                        <td id=\"T_6ef0eeaa_6456_11eb_89a2_0242ac1c0002row7_col11\" class=\"data row7 col11\" >0.012652</td>\n",
              "                        <td id=\"T_6ef0eeaa_6456_11eb_89a2_0242ac1c0002row7_col12\" class=\"data row7 col12\" >-0.010373</td>\n",
              "                        <td id=\"T_6ef0eeaa_6456_11eb_89a2_0242ac1c0002row7_col13\" class=\"data row7 col13\" >0.999976</td>\n",
              "                        <td id=\"T_6ef0eeaa_6456_11eb_89a2_0242ac1c0002row7_col14\" class=\"data row7 col14\" >-0.004353</td>\n",
              "            </tr>\n",
              "            <tr>\n",
              "                        <th id=\"T_6ef0eeaa_6456_11eb_89a2_0242ac1c0002level0_row8\" class=\"row_heading level0 row8\" >extra</th>\n",
              "                        <td id=\"T_6ef0eeaa_6456_11eb_89a2_0242ac1c0002row8_col0\" class=\"data row8 col0\" >-0.858735</td>\n",
              "                        <td id=\"T_6ef0eeaa_6456_11eb_89a2_0242ac1c0002row8_col1\" class=\"data row8 col1\" >-0.135692</td>\n",
              "                        <td id=\"T_6ef0eeaa_6456_11eb_89a2_0242ac1c0002row8_col2\" class=\"data row8 col2\" >0.001632</td>\n",
              "                        <td id=\"T_6ef0eeaa_6456_11eb_89a2_0242ac1c0002row8_col3\" class=\"data row8 col3\" >-0.022093</td>\n",
              "                        <td id=\"T_6ef0eeaa_6456_11eb_89a2_0242ac1c0002row8_col4\" class=\"data row8 col4\" >0.015927</td>\n",
              "                        <td id=\"T_6ef0eeaa_6456_11eb_89a2_0242ac1c0002row8_col5\" class=\"data row8 col5\" >0.014882</td>\n",
              "                        <td id=\"T_6ef0eeaa_6456_11eb_89a2_0242ac1c0002row8_col6\" class=\"data row8 col6\" >-0.021476</td>\n",
              "                        <td id=\"T_6ef0eeaa_6456_11eb_89a2_0242ac1c0002row8_col7\" class=\"data row8 col7\" >0.001580</td>\n",
              "                        <td id=\"T_6ef0eeaa_6456_11eb_89a2_0242ac1c0002row8_col8\" class=\"data row8 col8\" >1.000000</td>\n",
              "                        <td id=\"T_6ef0eeaa_6456_11eb_89a2_0242ac1c0002row8_col9\" class=\"data row8 col9\" >0.063720</td>\n",
              "                        <td id=\"T_6ef0eeaa_6456_11eb_89a2_0242ac1c0002row8_col10\" class=\"data row8 col10\" >0.002841</td>\n",
              "                        <td id=\"T_6ef0eeaa_6456_11eb_89a2_0242ac1c0002row8_col11\" class=\"data row8 col11\" >0.002643</td>\n",
              "                        <td id=\"T_6ef0eeaa_6456_11eb_89a2_0242ac1c0002row8_col12\" class=\"data row8 col12\" >0.064156</td>\n",
              "                        <td id=\"T_6ef0eeaa_6456_11eb_89a2_0242ac1c0002row8_col13\" class=\"data row8 col13\" >0.002209</td>\n",
              "                        <td id=\"T_6ef0eeaa_6456_11eb_89a2_0242ac1c0002row8_col14\" class=\"data row8 col14\" >0.147109</td>\n",
              "            </tr>\n",
              "            <tr>\n",
              "                        <th id=\"T_6ef0eeaa_6456_11eb_89a2_0242ac1c0002level0_row9\" class=\"row_heading level0 row9\" >mta_tax</th>\n",
              "                        <td id=\"T_6ef0eeaa_6456_11eb_89a2_0242ac1c0002row9_col0\" class=\"data row9 col0\" >-0.028355</td>\n",
              "                        <td id=\"T_6ef0eeaa_6456_11eb_89a2_0242ac1c0002row9_col1\" class=\"data row9 col1\" >0.002063</td>\n",
              "                        <td id=\"T_6ef0eeaa_6456_11eb_89a2_0242ac1c0002row9_col2\" class=\"data row9 col2\" >-0.085268</td>\n",
              "                        <td id=\"T_6ef0eeaa_6456_11eb_89a2_0242ac1c0002row9_col3\" class=\"data row9 col3\" >-0.181959</td>\n",
              "                        <td id=\"T_6ef0eeaa_6456_11eb_89a2_0242ac1c0002row9_col4\" class=\"data row9 col4\" >0.010784</td>\n",
              "                        <td id=\"T_6ef0eeaa_6456_11eb_89a2_0242ac1c0002row9_col5\" class=\"data row9 col5\" >0.028633</td>\n",
              "                        <td id=\"T_6ef0eeaa_6456_11eb_89a2_0242ac1c0002row9_col6\" class=\"data row9 col6\" >-0.178163</td>\n",
              "                        <td id=\"T_6ef0eeaa_6456_11eb_89a2_0242ac1c0002row9_col7\" class=\"data row9 col7\" >-0.006006</td>\n",
              "                        <td id=\"T_6ef0eeaa_6456_11eb_89a2_0242ac1c0002row9_col8\" class=\"data row9 col8\" >0.063720</td>\n",
              "                        <td id=\"T_6ef0eeaa_6456_11eb_89a2_0242ac1c0002row9_col9\" class=\"data row9 col9\" >1.000000</td>\n",
              "                        <td id=\"T_6ef0eeaa_6456_11eb_89a2_0242ac1c0002row9_col10\" class=\"data row9 col10\" >-0.060702</td>\n",
              "                        <td id=\"T_6ef0eeaa_6456_11eb_89a2_0242ac1c0002row9_col11\" class=\"data row9 col11\" >-0.168105</td>\n",
              "                        <td id=\"T_6ef0eeaa_6456_11eb_89a2_0242ac1c0002row9_col12\" class=\"data row9 col12\" >0.744811</td>\n",
              "                        <td id=\"T_6ef0eeaa_6456_11eb_89a2_0242ac1c0002row9_col13\" class=\"data row9 col13\" >-0.006107</td>\n",
              "                        <td id=\"T_6ef0eeaa_6456_11eb_89a2_0242ac1c0002row9_col14\" class=\"data row9 col14\" >0.409854</td>\n",
              "            </tr>\n",
              "            <tr>\n",
              "                        <th id=\"T_6ef0eeaa_6456_11eb_89a2_0242ac1c0002level0_row10\" class=\"row_heading level0 row10\" >tip_amount</th>\n",
              "                        <td id=\"T_6ef0eeaa_6456_11eb_89a2_0242ac1c0002row10_col0\" class=\"data row10 col0\" >0.021642</td>\n",
              "                        <td id=\"T_6ef0eeaa_6456_11eb_89a2_0242ac1c0002row10_col1\" class=\"data row10 col1\" >0.000780</td>\n",
              "                        <td id=\"T_6ef0eeaa_6456_11eb_89a2_0242ac1c0002row10_col2\" class=\"data row10 col2\" >0.506991</td>\n",
              "                        <td id=\"T_6ef0eeaa_6456_11eb_89a2_0242ac1c0002row10_col3\" class=\"data row10 col3\" >0.133305</td>\n",
              "                        <td id=\"T_6ef0eeaa_6456_11eb_89a2_0242ac1c0002row10_col4\" class=\"data row10 col4\" >-0.027828</td>\n",
              "                        <td id=\"T_6ef0eeaa_6456_11eb_89a2_0242ac1c0002row10_col5\" class=\"data row10 col5\" >-0.034075</td>\n",
              "                        <td id=\"T_6ef0eeaa_6456_11eb_89a2_0242ac1c0002row10_col6\" class=\"data row10 col6\" >-0.484442</td>\n",
              "                        <td id=\"T_6ef0eeaa_6456_11eb_89a2_0242ac1c0002row10_col7\" class=\"data row10 col7\" >0.010816</td>\n",
              "                        <td id=\"T_6ef0eeaa_6456_11eb_89a2_0242ac1c0002row10_col8\" class=\"data row10 col8\" >0.002841</td>\n",
              "                        <td id=\"T_6ef0eeaa_6456_11eb_89a2_0242ac1c0002row10_col9\" class=\"data row10 col9\" >-0.060702</td>\n",
              "                        <td id=\"T_6ef0eeaa_6456_11eb_89a2_0242ac1c0002row10_col10\" class=\"data row10 col10\" >1.000000</td>\n",
              "                        <td id=\"T_6ef0eeaa_6456_11eb_89a2_0242ac1c0002row10_col11\" class=\"data row10 col11\" >0.431176</td>\n",
              "                        <td id=\"T_6ef0eeaa_6456_11eb_89a2_0242ac1c0002row10_col12\" class=\"data row10 col12\" >0.043125</td>\n",
              "                        <td id=\"T_6ef0eeaa_6456_11eb_89a2_0242ac1c0002row10_col13\" class=\"data row10 col13\" >0.017104</td>\n",
              "                        <td id=\"T_6ef0eeaa_6456_11eb_89a2_0242ac1c0002row10_col14\" class=\"data row10 col14\" >-0.008575</td>\n",
              "            </tr>\n",
              "            <tr>\n",
              "                        <th id=\"T_6ef0eeaa_6456_11eb_89a2_0242ac1c0002level0_row11\" class=\"row_heading level0 row11\" >tolls_amount</th>\n",
              "                        <td id=\"T_6ef0eeaa_6456_11eb_89a2_0242ac1c0002row11_col0\" class=\"data row11 col0\" >0.010144</td>\n",
              "                        <td id=\"T_6ef0eeaa_6456_11eb_89a2_0242ac1c0002row11_col1\" class=\"data row11 col1\" >0.012475</td>\n",
              "                        <td id=\"T_6ef0eeaa_6456_11eb_89a2_0242ac1c0002row11_col2\" class=\"data row11 col2\" >0.615388</td>\n",
              "                        <td id=\"T_6ef0eeaa_6456_11eb_89a2_0242ac1c0002row11_col3\" class=\"data row11 col3\" >0.155296</td>\n",
              "                        <td id=\"T_6ef0eeaa_6456_11eb_89a2_0242ac1c0002row11_col4\" class=\"data row11 col4\" >-0.049324</td>\n",
              "                        <td id=\"T_6ef0eeaa_6456_11eb_89a2_0242ac1c0002row11_col5\" class=\"data row11 col5\" >-0.065728</td>\n",
              "                        <td id=\"T_6ef0eeaa_6456_11eb_89a2_0242ac1c0002row11_col6\" class=\"data row11 col6\" >-0.033897</td>\n",
              "                        <td id=\"T_6ef0eeaa_6456_11eb_89a2_0242ac1c0002row11_col7\" class=\"data row11 col7\" >0.012652</td>\n",
              "                        <td id=\"T_6ef0eeaa_6456_11eb_89a2_0242ac1c0002row11_col8\" class=\"data row11 col8\" >0.002643</td>\n",
              "                        <td id=\"T_6ef0eeaa_6456_11eb_89a2_0242ac1c0002row11_col9\" class=\"data row11 col9\" >-0.168105</td>\n",
              "                        <td id=\"T_6ef0eeaa_6456_11eb_89a2_0242ac1c0002row11_col10\" class=\"data row11 col10\" >0.431176</td>\n",
              "                        <td id=\"T_6ef0eeaa_6456_11eb_89a2_0242ac1c0002row11_col11\" class=\"data row11 col11\" >1.000000</td>\n",
              "                        <td id=\"T_6ef0eeaa_6456_11eb_89a2_0242ac1c0002row11_col12\" class=\"data row11 col12\" >0.018226</td>\n",
              "                        <td id=\"T_6ef0eeaa_6456_11eb_89a2_0242ac1c0002row11_col13\" class=\"data row11 col13\" >0.017665</td>\n",
              "                        <td id=\"T_6ef0eeaa_6456_11eb_89a2_0242ac1c0002row11_col14\" class=\"data row11 col14\" >-0.124516</td>\n",
              "            </tr>\n",
              "            <tr>\n",
              "                        <th id=\"T_6ef0eeaa_6456_11eb_89a2_0242ac1c0002level0_row12\" class=\"row_heading level0 row12\" >improvement_surcharge</th>\n",
              "                        <td id=\"T_6ef0eeaa_6456_11eb_89a2_0242ac1c0002row12_col0\" class=\"data row12 col0\" >-0.039408</td>\n",
              "                        <td id=\"T_6ef0eeaa_6456_11eb_89a2_0242ac1c0002row12_col1\" class=\"data row12 col1\" >0.003783</td>\n",
              "                        <td id=\"T_6ef0eeaa_6456_11eb_89a2_0242ac1c0002row12_col2\" class=\"data row12 col2\" >0.018388</td>\n",
              "                        <td id=\"T_6ef0eeaa_6456_11eb_89a2_0242ac1c0002row12_col3\" class=\"data row12 col3\" >-0.039509</td>\n",
              "                        <td id=\"T_6ef0eeaa_6456_11eb_89a2_0242ac1c0002row12_col4\" class=\"data row12 col4\" >0.002824</td>\n",
              "                        <td id=\"T_6ef0eeaa_6456_11eb_89a2_0242ac1c0002row12_col5\" class=\"data row12 col5\" >-0.000009</td>\n",
              "                        <td id=\"T_6ef0eeaa_6456_11eb_89a2_0242ac1c0002row12_col6\" class=\"data row12 col6\" >-0.221938</td>\n",
              "                        <td id=\"T_6ef0eeaa_6456_11eb_89a2_0242ac1c0002row12_col7\" class=\"data row12 col7\" >-0.010373</td>\n",
              "                        <td id=\"T_6ef0eeaa_6456_11eb_89a2_0242ac1c0002row12_col8\" class=\"data row12 col8\" >0.064156</td>\n",
              "                        <td id=\"T_6ef0eeaa_6456_11eb_89a2_0242ac1c0002row12_col9\" class=\"data row12 col9\" >0.744811</td>\n",
              "                        <td id=\"T_6ef0eeaa_6456_11eb_89a2_0242ac1c0002row12_col10\" class=\"data row12 col10\" >0.043125</td>\n",
              "                        <td id=\"T_6ef0eeaa_6456_11eb_89a2_0242ac1c0002row12_col11\" class=\"data row12 col11\" >0.018226</td>\n",
              "                        <td id=\"T_6ef0eeaa_6456_11eb_89a2_0242ac1c0002row12_col12\" class=\"data row12 col12\" >1.000000</td>\n",
              "                        <td id=\"T_6ef0eeaa_6456_11eb_89a2_0242ac1c0002row12_col13\" class=\"data row12 col13\" >-0.009475</td>\n",
              "                        <td id=\"T_6ef0eeaa_6456_11eb_89a2_0242ac1c0002row12_col14\" class=\"data row12 col14\" >0.320042</td>\n",
              "            </tr>\n",
              "            <tr>\n",
              "                        <th id=\"T_6ef0eeaa_6456_11eb_89a2_0242ac1c0002level0_row13\" class=\"row_heading level0 row13\" >total_amount</th>\n",
              "                        <td id=\"T_6ef0eeaa_6456_11eb_89a2_0242ac1c0002row13_col0\" class=\"data row13 col0\" >-0.001597</td>\n",
              "                        <td id=\"T_6ef0eeaa_6456_11eb_89a2_0242ac1c0002row13_col1\" class=\"data row13 col1\" >-0.000227</td>\n",
              "                        <td id=\"T_6ef0eeaa_6456_11eb_89a2_0242ac1c0002row13_col2\" class=\"data row13 col2\" >0.021689</td>\n",
              "                        <td id=\"T_6ef0eeaa_6456_11eb_89a2_0242ac1c0002row13_col3\" class=\"data row13 col3\" >0.005854</td>\n",
              "                        <td id=\"T_6ef0eeaa_6456_11eb_89a2_0242ac1c0002row13_col4\" class=\"data row13 col4\" >-0.000370</td>\n",
              "                        <td id=\"T_6ef0eeaa_6456_11eb_89a2_0242ac1c0002row13_col5\" class=\"data row13 col5\" >-0.000616</td>\n",
              "                        <td id=\"T_6ef0eeaa_6456_11eb_89a2_0242ac1c0002row13_col6\" class=\"data row13 col6\" >0.004156</td>\n",
              "                        <td id=\"T_6ef0eeaa_6456_11eb_89a2_0242ac1c0002row13_col7\" class=\"data row13 col7\" >0.999976</td>\n",
              "                        <td id=\"T_6ef0eeaa_6456_11eb_89a2_0242ac1c0002row13_col8\" class=\"data row13 col8\" >0.002209</td>\n",
              "                        <td id=\"T_6ef0eeaa_6456_11eb_89a2_0242ac1c0002row13_col9\" class=\"data row13 col9\" >-0.006107</td>\n",
              "                        <td id=\"T_6ef0eeaa_6456_11eb_89a2_0242ac1c0002row13_col10\" class=\"data row13 col10\" >0.017104</td>\n",
              "                        <td id=\"T_6ef0eeaa_6456_11eb_89a2_0242ac1c0002row13_col11\" class=\"data row13 col11\" >0.017665</td>\n",
              "                        <td id=\"T_6ef0eeaa_6456_11eb_89a2_0242ac1c0002row13_col12\" class=\"data row13 col12\" >-0.009475</td>\n",
              "                        <td id=\"T_6ef0eeaa_6456_11eb_89a2_0242ac1c0002row13_col13\" class=\"data row13 col13\" >1.000000</td>\n",
              "                        <td id=\"T_6ef0eeaa_6456_11eb_89a2_0242ac1c0002row13_col14\" class=\"data row13 col14\" >-0.003494</td>\n",
              "            </tr>\n",
              "            <tr>\n",
              "                        <th id=\"T_6ef0eeaa_6456_11eb_89a2_0242ac1c0002level0_row14\" class=\"row_heading level0 row14\" >congestion_surcharge</th>\n",
              "                        <td id=\"T_6ef0eeaa_6456_11eb_89a2_0242ac1c0002row14_col0\" class=\"data row14 col0\" >-0.009748</td>\n",
              "                        <td id=\"T_6ef0eeaa_6456_11eb_89a2_0242ac1c0002row14_col1\" class=\"data row14 col1\" >0.013716</td>\n",
              "                        <td id=\"T_6ef0eeaa_6456_11eb_89a2_0242ac1c0002row14_col2\" class=\"data row14 col2\" >-0.210402</td>\n",
              "                        <td id=\"T_6ef0eeaa_6456_11eb_89a2_0242ac1c0002row14_col3\" class=\"data row14 col3\" >-0.094704</td>\n",
              "                        <td id=\"T_6ef0eeaa_6456_11eb_89a2_0242ac1c0002row14_col4\" class=\"data row14 col4\" >0.127982</td>\n",
              "                        <td id=\"T_6ef0eeaa_6456_11eb_89a2_0242ac1c0002row14_col5\" class=\"data row14 col5\" >0.129009</td>\n",
              "                        <td id=\"T_6ef0eeaa_6456_11eb_89a2_0242ac1c0002row14_col6\" class=\"data row14 col6\" >-0.175131</td>\n",
              "                        <td id=\"T_6ef0eeaa_6456_11eb_89a2_0242ac1c0002row14_col7\" class=\"data row14 col7\" >-0.004353</td>\n",
              "                        <td id=\"T_6ef0eeaa_6456_11eb_89a2_0242ac1c0002row14_col8\" class=\"data row14 col8\" >0.147109</td>\n",
              "                        <td id=\"T_6ef0eeaa_6456_11eb_89a2_0242ac1c0002row14_col9\" class=\"data row14 col9\" >0.409854</td>\n",
              "                        <td id=\"T_6ef0eeaa_6456_11eb_89a2_0242ac1c0002row14_col10\" class=\"data row14 col10\" >-0.008575</td>\n",
              "                        <td id=\"T_6ef0eeaa_6456_11eb_89a2_0242ac1c0002row14_col11\" class=\"data row14 col11\" >-0.124516</td>\n",
              "                        <td id=\"T_6ef0eeaa_6456_11eb_89a2_0242ac1c0002row14_col12\" class=\"data row14 col12\" >0.320042</td>\n",
              "                        <td id=\"T_6ef0eeaa_6456_11eb_89a2_0242ac1c0002row14_col13\" class=\"data row14 col13\" >-0.003494</td>\n",
              "                        <td id=\"T_6ef0eeaa_6456_11eb_89a2_0242ac1c0002row14_col14\" class=\"data row14 col14\" >1.000000</td>\n",
              "            </tr>\n",
              "    </tbody></table>"
            ],
            "text/plain": [
              "<pandas.io.formats.style.Styler at 0x7f6d9d43d860>"
            ]
          },
          "metadata": {
            "tags": []
          },
          "execution_count": 9
        }
      ]
    },
    {
      "cell_type": "markdown",
      "metadata": {
        "id": "9IhRygRcJBBy"
      },
      "source": [
        "4. Split your data into training and testing datasets..."
      ]
    },
    {
      "cell_type": "code",
      "metadata": {
        "id": "LAdc8dOSJEof"
      },
      "source": [
        "# X=df.drop(['tpep_pickup_datetime','tpep_dropoff_datetime','total_amount'],axis=1)\r\n",
        "col=['fare_amount']\r\n",
        "X=df[col]\r\n",
        "y=df['total_amount']\r\n",
        "\r\n",
        "X_train,  X_test, y_train, y_test = train_test_split(X,y,train_size=0.75, random_state=2)"
      ],
      "execution_count": 10,
      "outputs": []
    },
    {
      "cell_type": "code",
      "metadata": {
        "colab": {
          "base_uri": "https://localhost:8080/"
        },
        "id": "Zos6BwAbCiSt",
        "outputId": "9a7d1ba6-19b8-47cb-8e69-cc05e5ddc39f"
      },
      "source": [
        "X_train.shape"
      ],
      "execution_count": 11,
      "outputs": [
        {
          "output_type": "execute_result",
          "data": {
            "text/plain": [
              "(362056, 1)"
            ]
          },
          "metadata": {
            "tags": []
          },
          "execution_count": 11
        }
      ]
    },
    {
      "cell_type": "code",
      "metadata": {
        "colab": {
          "base_uri": "https://localhost:8080/"
        },
        "id": "45xz20D9CiPF",
        "outputId": "02366050-0cdf-448b-c9dc-94462aaaaa58"
      },
      "source": [
        "y_train.shape"
      ],
      "execution_count": 12,
      "outputs": [
        {
          "output_type": "execute_result",
          "data": {
            "text/plain": [
              "(362056,)"
            ]
          },
          "metadata": {
            "tags": []
          },
          "execution_count": 12
        }
      ]
    },
    {
      "cell_type": "code",
      "metadata": {
        "colab": {
          "base_uri": "https://localhost:8080/"
        },
        "id": "VFi6tqHiChZ6",
        "outputId": "6f07081c-6229-45a4-847e-a5d195711ae8"
      },
      "source": [
        "X_test.shape"
      ],
      "execution_count": 13,
      "outputs": [
        {
          "output_type": "execute_result",
          "data": {
            "text/plain": [
              "(120686, 1)"
            ]
          },
          "metadata": {
            "tags": []
          },
          "execution_count": 13
        }
      ]
    },
    {
      "cell_type": "code",
      "metadata": {
        "colab": {
          "base_uri": "https://localhost:8080/"
        },
        "id": "slhGW6LhChRq",
        "outputId": "8ac216ba-7631-410c-876a-078d23603c53"
      },
      "source": [
        "y_test.shape"
      ],
      "execution_count": 14,
      "outputs": [
        {
          "output_type": "execute_result",
          "data": {
            "text/plain": [
              "(120686,)"
            ]
          },
          "metadata": {
            "tags": []
          },
          "execution_count": 14
        }
      ]
    },
    {
      "cell_type": "markdown",
      "metadata": {
        "id": "vAEzLu-7ItC5"
      },
      "source": [
        "5. Import, create, and fit a LinearRegression model with 1 variable"
      ]
    },
    {
      "cell_type": "code",
      "metadata": {
        "id": "34aVrxcNIv4d"
      },
      "source": [
        "lr= LinearRegression(fit_intercept=True,\r\n",
        "                     normalize=False)"
      ],
      "execution_count": 15,
      "outputs": []
    },
    {
      "cell_type": "code",
      "metadata": {
        "colab": {
          "base_uri": "https://localhost:8080/"
        },
        "id": "Q5bNMSAIIy1X",
        "outputId": "aff9af11-e3d4-4787-b984-259ae9670ee4"
      },
      "source": [
        "lr.fit(pd.DataFrame(X_train), y_train)"
      ],
      "execution_count": 16,
      "outputs": [
        {
          "output_type": "execute_result",
          "data": {
            "text/plain": [
              "LinearRegression(copy_X=True, fit_intercept=True, n_jobs=None, normalize=False)"
            ]
          },
          "metadata": {
            "tags": []
          },
          "execution_count": 16
        }
      ]
    },
    {
      "cell_type": "markdown",
      "metadata": {
        "id": "C4jtgDpVIysR"
      },
      "source": [
        "6. Make predictions on your `X_test` values..."
      ]
    },
    {
      "cell_type": "code",
      "metadata": {
        "id": "6n7j9lyYJQhj"
      },
      "source": [
        "pred=lr.predict(pd.DataFrame(X_test))"
      ],
      "execution_count": 17,
      "outputs": []
    },
    {
      "cell_type": "code",
      "metadata": {
        "id": "Yt0ohN6bJR9s",
        "colab": {
          "base_uri": "https://localhost:8080/"
        },
        "outputId": "d2bde606-1a00-422e-a871-803cbe1c0af7"
      },
      "source": [
        "# what do they look like? (show me some of the predictions)\r\n",
        "pred"
      ],
      "execution_count": 18,
      "outputs": [
        {
          "output_type": "execute_result",
          "data": {
            "text/plain": [
              "array([10.55339601, 15.05367936, 58.05638698, ..., 18.55389975,\n",
              "       12.55352194, 18.55389975])"
            ]
          },
          "metadata": {
            "tags": []
          },
          "execution_count": 18
        }
      ]
    },
    {
      "cell_type": "markdown",
      "metadata": {
        "id": "0MH2sdLGJYGo"
      },
      "source": [
        "7. Score your model...\r\n",
        "- r2_score\r\n",
        "- other metric (of your choice...)"
      ]
    },
    {
      "cell_type": "code",
      "metadata": {
        "id": "qzEn_dRzJW7z",
        "colab": {
          "base_uri": "https://localhost:8080/"
        },
        "outputId": "6b705479-6c5e-41b3-ce7c-8afdb33dd4b5"
      },
      "source": [
        "r2_score(y_test,pred)"
      ],
      "execution_count": 19,
      "outputs": [
        {
          "output_type": "execute_result",
          "data": {
            "text/plain": [
              "0.9316024197163262"
            ]
          },
          "metadata": {
            "tags": []
          },
          "execution_count": 19
        }
      ]
    },
    {
      "cell_type": "code",
      "metadata": {
        "id": "eTgWdLT1JgFj",
        "colab": {
          "base_uri": "https://localhost:8080/"
        },
        "outputId": "492c836c-06d0-4ea2-8862-afd247e66e04"
      },
      "source": [
        "mean_squared_error(y_test,pred)"
      ],
      "execution_count": 20,
      "outputs": [
        {
          "output_type": "execute_result",
          "data": {
            "text/plain": [
              "16.15802841917138"
            ]
          },
          "metadata": {
            "tags": []
          },
          "execution_count": 20
        }
      ]
    },
    {
      "cell_type": "markdown",
      "metadata": {
        "id": "KDpe83ogJgg3"
      },
      "source": [
        "8. Create, and fit a LinearRegression model with **more than** 1 variable"
      ]
    },
    {
      "cell_type": "code",
      "metadata": {
        "id": "ihXsRPtTJp7m"
      },
      "source": [
        "col=['fare_amount','trip_distance']\r\n",
        "X=df[col]\r\n",
        "y=df['total_amount']\r\n",
        "\r\n",
        "X_train,  X_test, y_train, y_test = train_test_split(X,y,train_size=0.75, random_state=2)"
      ],
      "execution_count": 21,
      "outputs": []
    },
    {
      "cell_type": "code",
      "metadata": {
        "id": "7q6mkOr6JsAk",
        "colab": {
          "base_uri": "https://localhost:8080/"
        },
        "outputId": "c6610ba5-8e56-45a6-cf79-0ad9f5fd594f"
      },
      "source": [
        "lr.fit(pd.DataFrame(X_train), y_train)\r\n"
      ],
      "execution_count": 22,
      "outputs": [
        {
          "output_type": "execute_result",
          "data": {
            "text/plain": [
              "LinearRegression(copy_X=True, fit_intercept=True, n_jobs=None, normalize=False)"
            ]
          },
          "metadata": {
            "tags": []
          },
          "execution_count": 22
        }
      ]
    },
    {
      "cell_type": "markdown",
      "metadata": {
        "id": "SJCKwpNXJutC"
      },
      "source": [
        "9. Make predictions on your `X_test` values..."
      ]
    },
    {
      "cell_type": "code",
      "metadata": {
        "id": "IdGtbPJJJvjd",
        "colab": {
          "base_uri": "https://localhost:8080/"
        },
        "outputId": "81cf534e-0df9-42e0-dc91-29169df01a65"
      },
      "source": [
        "pred=lr.predict(pd.DataFrame(X_test))\r\n",
        "pred"
      ],
      "execution_count": 23,
      "outputs": [
        {
          "output_type": "execute_result",
          "data": {
            "text/plain": [
              "array([ 9.03709026, 14.02706162, 67.88552435, ..., 18.54369791,\n",
              "       11.40455599, 17.41686003])"
            ]
          },
          "metadata": {
            "tags": []
          },
          "execution_count": 23
        }
      ]
    },
    {
      "cell_type": "code",
      "metadata": {
        "id": "V8fRIPrqJzF5"
      },
      "source": [
        "# what do they look like? (show me some of the predictions)\r\n"
      ],
      "execution_count": 24,
      "outputs": []
    },
    {
      "cell_type": "markdown",
      "metadata": {
        "id": "8rdbAft1JzZR"
      },
      "source": [
        "10. Score your model...\r\n",
        "- r2_score\r\n",
        "- other metric (of your choice...)"
      ]
    },
    {
      "cell_type": "code",
      "metadata": {
        "id": "uQn0WPxbJ1wi",
        "colab": {
          "base_uri": "https://localhost:8080/"
        },
        "outputId": "4911cde5-ae51-4ba0-95a7-cb43c2716f1d"
      },
      "source": [
        "r2_score(y_test,pred)"
      ],
      "execution_count": 25,
      "outputs": [
        {
          "output_type": "execute_result",
          "data": {
            "text/plain": [
              "0.9563076052968995"
            ]
          },
          "metadata": {
            "tags": []
          },
          "execution_count": 25
        }
      ]
    },
    {
      "cell_type": "code",
      "metadata": {
        "id": "wGAaIzfaJ16p",
        "colab": {
          "base_uri": "https://localhost:8080/"
        },
        "outputId": "1f47f26f-861f-4656-ed51-b004fc966707"
      },
      "source": [
        "mean_squared_error(y_test,pred)"
      ],
      "execution_count": 26,
      "outputs": [
        {
          "output_type": "execute_result",
          "data": {
            "text/plain": [
              "10.321753377624457"
            ]
          },
          "metadata": {
            "tags": []
          },
          "execution_count": 26
        }
      ]
    },
    {
      "cell_type": "code",
      "metadata": {
        "colab": {
          "base_uri": "https://localhost:8080/"
        },
        "id": "AupfLUFNK1Bw",
        "outputId": "d908ee33-6b4d-4431-cecc-6d6b9d113f5c"
      },
      "source": [
        "10.321753377624457-10.321753377624457"
      ],
      "execution_count": 27,
      "outputs": [
        {
          "output_type": "execute_result",
          "data": {
            "text/plain": [
              "0.0"
            ]
          },
          "metadata": {
            "tags": []
          },
          "execution_count": 27
        }
      ]
    },
    {
      "cell_type": "markdown",
      "metadata": {
        "id": "mdnhA-_aJ2QG"
      },
      "source": [
        "11. Which model is better? Why?"
      ]
    },
    {
      "cell_type": "markdown",
      "metadata": {
        "id": "385yTrGvKJ2I"
      },
      "source": [
        "The second model is better as it has the higher r2 score with 0.956 unlike the first one which had around 0.932.\r\n",
        "However both of them have the same mean squared error score"
      ]
    },
    {
      "cell_type": "markdown",
      "metadata": {
        "id": "YXq7N9wPKISw"
      },
      "source": [
        "12. Perform GridSearchCV with the better data"
      ]
    },
    {
      "cell_type": "code",
      "metadata": {
        "id": "JQI1-xzHKZ5t"
      },
      "source": [
        "p_grid = {'fit_intercept': [True, False],\r\n",
        "          'normalize': [True, False]}\r\n",
        "\r\n",
        "grid = GridSearchCV(lr, p_grid)"
      ],
      "execution_count": 28,
      "outputs": []
    },
    {
      "cell_type": "code",
      "metadata": {
        "id": "ZuD63G_ARo0U",
        "colab": {
          "base_uri": "https://localhost:8080/"
        },
        "outputId": "af3e7b4f-395f-4940-9dc4-b135da246715"
      },
      "source": [
        "grid.fit(X_train, y_train)"
      ],
      "execution_count": 29,
      "outputs": [
        {
          "output_type": "execute_result",
          "data": {
            "text/plain": [
              "GridSearchCV(cv=None, error_score=nan,\n",
              "             estimator=LinearRegression(copy_X=True, fit_intercept=True,\n",
              "                                        n_jobs=None, normalize=False),\n",
              "             iid='deprecated', n_jobs=None,\n",
              "             param_grid={'fit_intercept': [True, False],\n",
              "                         'normalize': [True, False]},\n",
              "             pre_dispatch='2*n_jobs', refit=True, return_train_score=False,\n",
              "             scoring=None, verbose=0)"
            ]
          },
          "metadata": {
            "tags": []
          },
          "execution_count": 29
        }
      ]
    },
    {
      "cell_type": "code",
      "metadata": {
        "id": "rkVFXnrORpMN",
        "colab": {
          "base_uri": "https://localhost:8080/"
        },
        "outputId": "1a82e2e0-1cbe-46b3-c2b8-f1543380d631"
      },
      "source": [
        "grid.best_params_"
      ],
      "execution_count": 30,
      "outputs": [
        {
          "output_type": "execute_result",
          "data": {
            "text/plain": [
              "{'fit_intercept': True, 'normalize': True}"
            ]
          },
          "metadata": {
            "tags": []
          },
          "execution_count": 30
        }
      ]
    },
    {
      "cell_type": "markdown",
      "metadata": {
        "id": "OkFfmndgKagk"
      },
      "source": [
        "13. Update the hyperparameters of your model (create and fit a new model with the results of GridSerachCV)"
      ]
    },
    {
      "cell_type": "code",
      "metadata": {
        "id": "tMbtfYrsKg7u"
      },
      "source": [
        "\r\n",
        "\r\n",
        "lr = LinearRegression(fit_intercept=True,\r\n",
        "                      normalize=True)\r\n",
        "\r\n"
      ],
      "execution_count": 31,
      "outputs": []
    },
    {
      "cell_type": "code",
      "metadata": {
        "id": "ZuYB-9_qKh2o",
        "colab": {
          "base_uri": "https://localhost:8080/"
        },
        "outputId": "e8402d9d-b262-4b0a-f09f-d577d57b570b"
      },
      "source": [
        "lr.fit(X_train, y_train)"
      ],
      "execution_count": 32,
      "outputs": [
        {
          "output_type": "execute_result",
          "data": {
            "text/plain": [
              "LinearRegression(copy_X=True, fit_intercept=True, n_jobs=None, normalize=True)"
            ]
          },
          "metadata": {
            "tags": []
          },
          "execution_count": 32
        }
      ]
    },
    {
      "cell_type": "code",
      "metadata": {
        "id": "Y5ompgLOLabF"
      },
      "source": [
        "preds = lr.predict(X_test)"
      ],
      "execution_count": 33,
      "outputs": []
    },
    {
      "cell_type": "markdown",
      "metadata": {
        "id": "RTih62jiKhHd"
      },
      "source": [
        "14. Score the new model... \r\n",
        "- r2_score\r\n",
        "- some other metric of your choice"
      ]
    },
    {
      "cell_type": "code",
      "metadata": {
        "id": "bHglwkVGKkW7",
        "colab": {
          "base_uri": "https://localhost:8080/"
        },
        "outputId": "4a288914-2928-430f-c646-70fc55805b1e"
      },
      "source": [
        "r2_score(y_test,pred)"
      ],
      "execution_count": 34,
      "outputs": [
        {
          "output_type": "execute_result",
          "data": {
            "text/plain": [
              "0.9563076052968995"
            ]
          },
          "metadata": {
            "tags": []
          },
          "execution_count": 34
        }
      ]
    },
    {
      "cell_type": "code",
      "metadata": {
        "id": "AgsbHIhqKoQr",
        "colab": {
          "base_uri": "https://localhost:8080/"
        },
        "outputId": "d27148e4-f90c-4c03-b9df-516d3b19fbec"
      },
      "source": [
        "mean_squared_error(y_test,pred)"
      ],
      "execution_count": 35,
      "outputs": [
        {
          "output_type": "execute_result",
          "data": {
            "text/plain": [
              "10.321753377624457"
            ]
          },
          "metadata": {
            "tags": []
          },
          "execution_count": 35
        }
      ]
    },
    {
      "cell_type": "code",
      "metadata": {
        "colab": {
          "base_uri": "https://localhost:8080/"
        },
        "id": "cLUXcW-tLkar",
        "outputId": "abffc9f5-f21f-4910-a453-bbb8ffc6fc62"
      },
      "source": [
        "10.321753377624457-10.321753377624457"
      ],
      "execution_count": 36,
      "outputs": [
        {
          "output_type": "execute_result",
          "data": {
            "text/plain": [
              "0.0"
            ]
          },
          "metadata": {
            "tags": []
          },
          "execution_count": 36
        }
      ]
    },
    {
      "cell_type": "code",
      "metadata": {
        "colab": {
          "base_uri": "https://localhost:8080/"
        },
        "id": "rcaqVzALLtmY",
        "outputId": "a8af6711-3d5a-470c-fe40-7fcab378c388"
      },
      "source": [
        "0.9563076052968995-0.9563076052968995"
      ],
      "execution_count": 37,
      "outputs": [
        {
          "output_type": "execute_result",
          "data": {
            "text/plain": [
              "0.0"
            ]
          },
          "metadata": {
            "tags": []
          },
          "execution_count": 37
        }
      ]
    },
    {
      "cell_type": "markdown",
      "metadata": {
        "id": "c3uY8_MnKpXQ"
      },
      "source": [
        "Did the score change at all? Why?"
      ]
    },
    {
      "cell_type": "markdown",
      "metadata": {
        "id": "8xeiVnQSKtYa"
      },
      "source": [
        "No, both scores are the same as the previous one"
      ]
    },
    {
      "cell_type": "code",
      "metadata": {
        "id": "Aw7GMRgRL8Ve"
      },
      "source": [
        ""
      ],
      "execution_count": 37,
      "outputs": []
    }
  ]
}